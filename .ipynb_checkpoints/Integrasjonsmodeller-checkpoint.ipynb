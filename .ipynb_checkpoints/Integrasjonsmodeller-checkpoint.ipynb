{
 "cells": [
  {
   "cell_type": "markdown",
   "metadata": {},
   "source": [
    "# Numerisk Integrasjon"
   ]
  },
  {
   "cell_type": "markdown",
   "metadata": {},
   "source": [
    "## Innholdsfortegnelse\n",
    "- Importering av Moduler\n",
    "- Introduksjon\n",
    "    - Definisjon av den integrerte\n",
    "    - Definere klassen som skal brukes utover programmet (OOP)\n",
    "    - Definering av ulike subklasser som skiller mellom metodene\n",
    "    - Deklarering av en testfunksjon som skal brukes utover programmet\n",
    "- Ulike Integrasjonsmetoder\n",
    "    - Rektangelmetoden (Riemann-Summen)\n",
    "    - Trapesmetoden\n",
    "    - Simpsons Metode\n",
    "    - Monte Carlo-Integrasjon\n",
    "    - Gauss-Kvadratur\n",
    "- Sammenlikne metodene for ulike testfunksjoner\n",
    "- Drøfting og diskusjon\n",
    "    - Hvilken metode var \"best\"\n",
    "    - Kompleksitet\n",
    "    - Lagrange form\n",
    "    - Legendre polynomer\n",
    "- Sammendrag\n",
    "- Kilder"
   ]
  },
  {
   "cell_type": "markdown",
   "metadata": {},
   "source": [
    "## Importering av moduler"
   ]
  },
  {
   "cell_type": "markdown",
   "metadata": {},
   "source": [
    "Her er bare en kort Python snip hvor jeg har importert noen moduler jeg bruker gjennom rapporten"
   ]
  },
  {
   "cell_type": "code",
   "execution_count": 1,
   "metadata": {},
   "outputs": [],
   "source": [
    "import time                              #For å ta tiden på ulike operasjoner og sette tidene opp mot hverandre\n",
    "import pylab                             #Tilgang på en rekke verktøy som plotting og arrays med mer\n",
    "import random                            #Tilgang på Psuedotilfeldige verdier som er nyttige i spesielt en metode\n",
    "from numpy.polynomial import polynomial  #Ulike verktøy for å jobbe med noe som kan ligne på polynomer i python\n",
    "from scipy.special import legendre       #En funksjon som hjelper til med å generere Legendre polynomene som brukes i en av metodene"
   ]
  },
  {
   "cell_type": "markdown",
   "metadata": {},
   "source": [
    "## Introduksjon"
   ]
  },
  {
   "cell_type": "markdown",
   "metadata": {},
   "source": [
    "### Definisjon av den integrerte\n",
    "\n",
    "Dersom vi har en funksjon $f(x)$, skrives den integrerte til denne funksjonen fra linjen $x = a$ til linjen $x = b$ slik:\n",
    "\n",
    "$$\\int_{a}^{b} f(x)\\,dx$$\n",
    "\n",
    "Dette tilsvarer arealet av området som er avgrenset av grafen, x-aksen, og linjene $x = a$ og $x = b$\n",
    "\n",
    "Gjennom analysens fundamentalteorem kommer det også frem at integrasjon er det motsatte av derivasjon, altså antiderivasjon.\n",
    "\n",
    "Integralet over er et bestemt integral. Det vil si at den går fra et punkt til et annet. Når vi regner på bestemte integraler får vi et tall som løsning. Dersom vi ønsket et mer generelt utrykk er det også mulig å finne det ubestemte integralet (eneste forskjellen i føringen er at man unngår å ta med grensene $x = a$ og $x = b$), men i denne rapporten vil vi utelukkende jobbe med bestemte integraler.\n",
    "\n",
    "Kort fortalt er det å finne den bestemte integralen til en funksjon mellom to punkter det samme som å tilnærme arealet under grafen mellom de to punktene."
   ]
  },
  {
   "cell_type": "markdown",
   "metadata": {},
   "source": [
    "### Definere klassen som skal brukes utover programmet (OOP)\n",
    "\n",
    "Jeg har valgt å utnytte muligheten ved OOP, fordi det gjør det lett å samle ulike objekter å gjennbruke kode blant dem. Her tenker jeg å lagre de ulike integrasjonsmetodene som objekter i en klasse, og senere i ulike subklasser, hvor de hver har en parameter som inneholder selve funksjonen de baserer seg på. Deretter vil klassen/subklassene inneholde en rekke metoder som kan brukes til å analysere og presisere de ulike integrasjonsmetodene."
   ]
  },
  {
   "cell_type": "code",
   "execution_count": 2,
   "metadata": {},
   "outputs": [],
   "source": [
    "class integrasjonsMetode:\n",
    "    \n",
    "    #Initialiseringsmetode som kalles når et objekt skapes, det tillater klassen å initialisere attributene til objektet\n",
    "    def __init__(self, func):\n",
    "        self.func = func\n",
    "        \n",
    "    #Funksjon som overraskende nok printer tilnærmingen av integralet for en n-verdi på 3\n",
    "    def printFor3(self, f, a, b):\n",
    "        print(\"For n = 3 er integralet tilnærmet: {}\".format(self.func(f, a, b, 3)))\n",
    "        \n",
    "    #Funksjon som printer ut tilnærmingen for valgfri n-verdi\n",
    "    def valgfriPrint(self, f, a, b, n = 3):\n",
    "        print(\"For n = {} er integralet tilnærmet: {}\".format(n, self.func(f, a, b, n)))\n",
    "    \n",
    "\n"
   ]
  },
  {
   "cell_type": "markdown",
   "metadata": {},
   "source": [
    "### Definering av ulike Subklasser som skiller mellom metodene\n",
    "\n",
    "ettersom metodene alle har sine variasjoner, har jeg valgt å dele dem opp i subklasser for at de skal kunne nå respektive metoder, uten at de kan nå noen metoder de ikke er ment til å nå. Dersom noen av integrasjonsmetodene når uønskede metoder, kan det føre til error eller rett og slett feil svar."
   ]
  },
  {
   "cell_type": "code",
   "execution_count": 3,
   "metadata": {},
   "outputs": [],
   "source": [
    "#Subklasse for Gauss-kvadratur som er ganske skjør mot høye verdier av N\n",
    "class kvadraturMetode(integrasjonsMetode):\n",
    "    \n",
    "    #Initialiseringsmetode som kalles når et objekt skapes, det tillater klassen å initialisere attributene til objektet\n",
    "    def __init__(self, func):\n",
    "        integrasjonsMetode.__init__(self, func)\n",
    "        \n",
    "    # Funksjon som printer ut tilnærmingen av integralet for ulike n-verdier og viser hvor lang tid komputasjonen tar\n",
    "    # Sjekker for de syv første oddetallene\n",
    "    def presisjon(self, f, a, b):\n",
    "        i = 1\n",
    "        for k in range(7):\n",
    "            start_time = time.time()\n",
    "            print('For n = {} : {}'.format(i, self.func(f, a, b, i)))\n",
    "            print('--- {} sekunder ---'.format(time.time() - start_time))\n",
    "            i += 2\n",
    "\n",
    "#Subklasse for resten av metodene som tåler høyere verdier av N            \n",
    "class robustMetode(integrasjonsMetode):\n",
    "    \n",
    "    #Initialiseringsmetode som kalles når et objekt skapes, det tillater klassen å initialisere attributene til objektet\n",
    "    def __init__(self, func):\n",
    "        integrasjonsMetode.__init__(self, func)\n",
    "        \n",
    "    # Funksjon som printer ut tilnærmingen av integralet for ulike n-verdier og viser hvor lang tid komputasjonen tar\n",
    "    # Sjekker for de 7 første tierpotensene\n",
    "    def presisjon(self, f, a, b):\n",
    "        i = 10\n",
    "        while i < 1E8:\n",
    "            start_time = time.time()\n",
    "            print('For n = {} : {}'.format(i, self.func(f, a, b, i)))\n",
    "            print('--- {} sekunder ---'.format(time.time() - start_time))\n",
    "            i *= 10\n"
   ]
  },
  {
   "cell_type": "markdown",
   "metadata": {},
   "source": [
    "### Deklarering av testfunksjon som skal brukes utover programmet\n",
    "\n",
    "Under vil jeg legge til en funksjon som vil brukes gjennom rapporten i fasen hvor vi utleder de ulike integrasjonsmetodene. Det er fint å ha en fast og enkel funksjon til dette, fordi det er lettere å begynne å sammenligne mellom funksjonene i utledningene. Det er også lurt å ta en funksjon som ingen av metodene er _\"spesialisert\"_ på. Med dette mener jeg at det kan bli urettferdig å ta en andregradspolynom, fordi Simpsons metode vil åpenbart treffe mye bedre enn for eksempel Riemann Summen eller Trapesmetoden. Funksjonen jeg har valgt blir som følger:\n",
    "\n",
    "$$f(x) = cos(x)$$\n",
    "\n",
    "Jeg har også satt $a = 0$ og $b = 1$ som grensene på de eventuelle bestemte integralene. \n",
    "Det er også lurt å løse denne funksjonen for fremtidig analyse. Jeg har kommet frem til følgende:\n",
    "\n",
    "$$\\int_{0}^{1} f(x)\\,dx = \\int_{0}^{1} cos(x)\\,dx = sin(1) \\approx 0.8414709848079$$\n",
    "\n",
    "Her er den og start- og sluttverdien implementert i Python:"
   ]
  },
  {
   "cell_type": "code",
   "execution_count": 4,
   "metadata": {},
   "outputs": [],
   "source": [
    "def f(x):\n",
    "    '''\n",
    "    x: verdien/ene som skal gjennom gå igjennom funksjon, type: float eller numpy.array\n",
    "    \n",
    "    returnerer cosinusverdien til funksjonen for gitt x-verdi som float\n",
    "    '''\n",
    "    return pylab.cos(x)\n",
    "\n",
    "# Startverdi og Sluttverdi for testfunksjonen\n",
    "a = 0\n",
    "b = 1"
   ]
  },
  {
   "cell_type": "markdown",
   "metadata": {},
   "source": [
    "Det kan også være lurt å få visualisert funksjonen for det gjeldende intervallet, så vet man noenlunde hvordan integralet vil se ut. Det gjøres her:"
   ]
  },
  {
   "cell_type": "code",
   "execution_count": 5,
   "metadata": {},
   "outputs": [
    {
     "data": {
      "image/png": "[encoded data removed]",
      "text/plain": [
       "<Figure size 432x288 with 1 Axes>"
      ]
     },
     "metadata": {
      "needs_background": "light"
     },
     "output_type": "display_data"
    }
   ],
   "source": [
    "# Numpy-array med 1000 verdier fra startverdien til sluttverdien\n",
    "x = pylab.linspace(a, b, 1000)\n",
    "\n",
    "pylab.plot(x, f(x), color='salmon', label='cos(x)')\n",
    "pylab.xlabel('x')\n",
    "pylab.ylabel('y')\n",
    "pylab.grid()\n",
    "pylab.legend()\n",
    "pylab.show()"
   ]
  },
  {
   "cell_type": "markdown",
   "metadata": {},
   "source": [
    "fig(1): funksjonen $cos(x)$ grafet mellom $x = 0$ og $x = 1$ i en lakserose farge"
   ]
  },
  {
   "cell_type": "markdown",
   "metadata": {},
   "source": [
    "## Ulike Integrasjonsmetoder"
   ]
  },
  {
   "cell_type": "markdown",
   "metadata": {},
   "source": [
    "### Rektangelmetoden (Riemann-Summen)\n",
    "\n",
    "#### Teori\n",
    "En måte å integrere funksjonen fra $x = a$ til $x = b$ er ved å dele området inn i $n$ like brede rektangler. Vi ønsker at rektanglene skal være så smale som mulig, og vi kaller bredden $\\Delta x$. Med $n$ rektangler er da bredden til hvert rektangel gitt ved:\n",
    "\n",
    "$$\\Delta x = \\frac{b - a}{n}$$\n",
    "\n",
    "Arealet til et rektangel er gitt ved denne bredden ganger høyden på rektangelet. Og høyden på rektangelet, dersom rektanglene treffer grafen i venstre hjørne, er gitt ved funksjonsverdien til det x-punktet. for eksempel hvis hvis vi ser der $x = x_1$ vil arealet av rektangelet være:\n",
    "\n",
    "$$\\Delta x \\,f(x_1)$$\n",
    "\n",
    "hvis vi ser for oss at den integrerte er summen av $n$ slike rektangler får vi som følger:\n",
    "\n",
    "$$\\int_{a}^{b}f(x)\\,dx = \\Delta x\\,f(x_1) + \\Delta x\\,f(x_2) + \\Delta x\\,f(x_3) + ... + \\Delta x\\,f(x_n)$$\n",
    "\n",
    "Her ser vi at alle leddene på høyresiden inneholder denne bredden $\\Delta x$, så vi kan trekke denne utenfor:\n",
    "\n",
    "$$\\int_{a}^{b}f(x)\\,dx = \\Delta x\\,(f(x_1) + f(x_2) + x f(x_3) + ... + f(x_n))$$\n",
    "\n",
    "For så å forkorte utrykket enda mer kan vi se at inne i parantesen finner vi en sum, den kan vi forkorte slik:\n",
    "\n",
    "$$\\int_{a}^{b} f(x)\\,dx = \\Delta x\\,\\sum_{k=0}^{n} f(x_k)$$\n",
    "\n",
    "En viktig ting til er at integralen ikke er nøyaktig lik dette utrykket, med mindre $n = \\infty$, men det klarer vi ikke, så vi må sette at den er tilnærmet lik, og desto større $n$ er, desto nærmere kommer vi:\n",
    "\n",
    "$$\\int_{a}^{b} f(x)\\,dx \\approx \\Delta x\\,\\sum_{k=0}^{n} f(x_k)$$\n",
    "\n",
    "__Definisjon__: Det bestemte integralet til en funksjon $f(x)$ fra $x = a$ til $x = b$ kan tilnærmes ved arealet til $n$ rektangler med bredden $\\Delta x = \\frac{b - a}{n}$:\n",
    "\n",
    "$$\\int_{a}^{b} f(x)\\,dx \\approx \\Delta x\\,\\sum_{k=0}^{n} f(x_k)$$"
   ]
  },
  {
   "cell_type": "markdown",
   "metadata": {},
   "source": [
    "#### Illustrasjon av metoden\n",
    "Under vil det komme to illustrasjoner jeg har generert ved hjelp av et pythonprogram i samme repositry som denne notebooken (RektangelMetodenIllustratør.py). De viser grafen til testfunksjonen og rektanglene som tilnærmer integralet for $n=5$ og $n = 100$:\n",
    "\n",
    "![title](Rektangelmetoden1.png)\n",
    "\n",
    "fig(2): Testfunksjonen grafet mellom $x = 0$ og $x = 1$ og 5 rektangler som skal tilnærme integralet til funksjonen for det markerte området.\n",
    "\n",
    "![title](Rektangelmetoden2.png)\n",
    "\n",
    "fig(3): Testfunksjonen grafet mellom $x = 0$ og $x = 1$ og 100 rektangler som skal tilnærme integralet til funksjonen for det markerte området.\n",
    "\n",
    "Ved hjelp av illustrasjonene kommer det tydelig frem at tilnærmingen blir mer presis ved større verdi for $n$, men selv for en n-verdi på 100 kan man se flere steder hvor det ikke er helt presist."
   ]
  },
  {
   "cell_type": "markdown",
   "metadata": {},
   "source": [
    "#### Implementering i Python"
   ]
  },
  {
   "cell_type": "code",
   "execution_count": 6,
   "metadata": {},
   "outputs": [
    {
     "name": "stdout",
     "output_type": "stream",
     "text": [
      "For n = 3 er integralet tilnærmet: 0.9102814023638951\n"
     ]
    }
   ],
   "source": [
    "# Rektangelmetoden som en funksjon\n",
    "def rektangelMetoden(f, a, b, n):\n",
    "    '''\n",
    "    f: funksjonen som skal integreres, type: function\n",
    "    a: startvariabelen, type: float\n",
    "    b: sluttvariabelen, type: float\n",
    "    n: antall rektangeler, type: int\n",
    "    \n",
    "    returnerer tilnærming av arealet som float\n",
    "    '''\n",
    "    areal = 0.0                    #Starter med et areal som er lik null\n",
    "    deltax = (b - a)/n             #Av definisjonen ser vi at deltax skal være definert slik\n",
    "    for k in range(n):\n",
    "        areal += f(a + k*deltax)   #Denne for-løkken skal tilsvare summeringsoperasjonen i definisjonen\n",
    "    areal *= deltax                #Deretter ser vi i definisjonen at den skal multipliseres med deltax\n",
    "    return areal\n",
    "\n",
    "\n",
    "\n",
    "# Her gjør vi metoden om til et objekt i integrasjonsmetodeklassen\n",
    "Rektangel = robustMetode(rektangelMetoden)\n",
    "\n",
    "# Bare printer ut tilnærmingen for n = 3 ved hjelp av en metode i klassen\n",
    "Rektangel.printFor3(f, a, b)"
   ]
  },
  {
   "cell_type": "markdown",
   "metadata": {},
   "source": [
    "#### Presisjonen til metoden\n",
    "Nå som vi har implementert metoden i Python, kan vi utnytte en av metodene som tilhører subklassen. Vi kan da sjekke hvor nærme funksjonen er den ønskede verdien for ulike n-verdier. Vi kan også sjekke hvor lang tid programmet tar for denne n-verdien:"
   ]
  },
  {
   "cell_type": "code",
   "execution_count": 7,
   "metadata": {},
   "outputs": [
    {
     "name": "stdout",
     "output_type": "stream",
     "text": [
      "For n = 10 : 0.8637545267950127\n",
      "--- 0.0 sekunder ---\n",
      "For n = 100 : 0.843762461008662\n",
      "--- 0.0 sekunder ---\n",
      "For n = 1000 : 0.8417007635323784\n",
      "--- 0.0 sekunder ---\n",
      "For n = 10000 : 0.8414939689913808\n",
      "--- 0.0 sekunder ---\n",
      "For n = 100000 : 0.8414732832893363\n",
      "--- 0.13526511192321777 sekunder ---\n",
      "For n = 1000000 : 0.8414712146566649\n",
      "--- 1.0635745525360107 sekunder ---\n",
      "For n = 10000000 : 0.8414710077927628\n",
      "--- 10.765928268432617 sekunder ---\n"
     ]
    }
   ],
   "source": [
    "Rektangel.presisjon(f, a, b)"
   ]
  },
  {
   "cell_type": "markdown",
   "metadata": {},
   "source": [
    "Her ser vi først og fremst at tiden tidobler seg for hver gang $n$ tidobler seg. Dette vil si at dersom jeg skulle prøvd med 1E8 hadde det tatt omtrent 100 sekunder(her tokk 1E7 10 sekunder). Når det kommer til presisjonen var verdien de var ute etter omtrent:\n",
    "\n",
    "$$0.8414709848079$$\n",
    "\n",
    "Resultatet jeg har fått viser at de tre største n-verdiene alle hadde riktig frem til sjette desimalplass. Dette er ganske greit, og vi hadde nok kommet nærmere ved å øke n-verdien, men er det verdt det å fortsette med denne metoden, eller bør man finne en ny, kanskje bedre metode?"
   ]
  },
  {
   "cell_type": "markdown",
   "metadata": {},
   "source": [
    "### Trapesmetoden"
   ]
  },
  {
   "cell_type": "markdown",
   "metadata": {},
   "source": [
    "#### Teori\n",
    "\n",
    "Tanken bak denne metoden er at dersom vi bruker trapeser, får vi som oftest med enda færre deler utenfor det området som vi skal regne arealet av, og naturligvis blir det også bedre dersom vi øker antall trapeser, eller da n-verdien.\n",
    "\n",
    "En av de vesentlige forskjellene mellom et rektangel og et trapes er at arealet til et trapes er gitt som følger:\n",
    "\n",
    "$$A = \\frac{a + b}{2} \\,h$$\n",
    "\n",
    "Hvor $a$ 0g $b$ er sidelengder, mens $h$ er høyden.\n",
    "Hvis vi skal bruke ett trapes til å regne ut integralet(arealet under grafen) til funksjonen får vi:\n",
    "\n",
    "$$A = \\frac{f(a) + f(b)}{2} \\,(b - a)$$\n",
    "\n",
    "Her ser vi at sidelengdene er $f(a)$ og $f(b)$, mens høyden er gitt ved $b - a$\n",
    "Dersom vi sier at det er $n$ antall trapeser som skal dekke området kan vi skrive det slik:\n",
    "\n",
    "$$\\int_{a}^{b} f(x)\\,dx = \\frac{f(a) + f(x_1)}{2}\\,\\Delta x + \\frac{f(x_1) + f(x_2)}{2}\\,\\Delta x  + \\frac{f(x_2) + f(x_3)}{2} \\,\\Delta x + ... + \\frac{f(x_{n-1}) + f(b)}{2}\\,\\Delta x$$\n",
    "\n",
    "Her setter vi høyden til å være $\\Delta x$, fordi det er definert som avstanden mellom to punkter gitt $n$ antall punkter. \n",
    "\n",
    "Vi kan sette $\\Delta x$ utenfor i parantesen:\n",
    "\n",
    "$$\\int_{a}^{b} f(x)\\,dx = \\Delta x\\,( \\frac{f(a) + f(x_1)}{2} + \\frac{f(x_1) + f(x_2)}{2} + \\frac{f(x_2) + f(x_3)}{2} + ... + \\frac{f(x_{n-1}) + f(b)}{2})$$\n",
    "\n",
    "Dersom vi setter brøkene i parantesen sammen får vi:\n",
    "\n",
    "$$\\int_{a}^{b} f(x)\\,dx = \\Delta x\\,(\\frac{f(a) + 2f(x_1) + 2f(x_2) + 2f(x_3) + ... + 2f(x_{n-1}) + f(b)}{2})$$\n",
    "\n",
    "Da ser vi at hvis vi igjen deler opp brøken slik:\n",
    "\n",
    "$$\\int_{a}^{b} f(x)\\,dx = \\Delta x \\,(\\frac{f(a) + f(b)}{2} + f(x_1) + f(x_2) + f(x_3) + ... + f(n-1))$$\n",
    "\n",
    "Så får vi, i parantesen først ett ledd som ligner på arealet til et trapes, og i de resterende leddet et utrykk som lett kan forkortes som en sum slik:\n",
    "\n",
    "$$\\int_{a}^{b} f(x)\\,dx = \\Delta x\\,(\\frac{f(a) + f(b)}{2} + \\sum_{k = 0}^{n - 1} f(x_k))$$\n",
    "\n",
    "Her igjen må vi også passe på likhetstegnet. Dette er bare en tilnærming hvor, fordi vi ikke klarer å sette $n$ il å være uendlig stor, så da får vi det endelige utrykket:\n",
    "\n",
    "$$\\int_{a}^{b} f(x)\\,dx \\approx \\Delta x\\,(\\frac{f(a) + f(b)}{2} + \\sum_{k = 0}^{n - 1} f(x_k))$$\n",
    "\n",
    "__Definisjon__: Det bestemte integralet til en funksjon $f(x)$ fra $x = a$ til $x = b$ kan tilnærmes ved arealet til $n$ trapeser med bredden $\\Delta x = \\frac{b-a}{n}$:\n",
    "\n",
    "$$\\int_{a}^{b} f(x)\\,dx \\approx \\Delta x\\,(\\frac{f(a) + f(b)}{2} + \\sum_{k = 0}^{n - 1} f(x_k))$$"
   ]
  },
  {
   "cell_type": "markdown",
   "metadata": {},
   "source": [
    "#### Illustrasjon av Metoden\n",
    "\n",
    "Under vil vi kunne se to illustrasjoner jeg har generert med et eksternt pythonprogram som er å finne i samme repositry som notebooken (TrapesMetodenIllustratør.py). De gir fine visualiseringer over hva metoden går ut på. De viser grafen til testfunksjonen og trapesene som tilnærmer integralet for $n=5$ og $n = 100$:\n",
    "\n",
    "![title](Trapesmetoden1.png)\n",
    "fig(4): Grafen til testfunksjonen mellom $x=a$ og $x=b$ og 5 trapeser som skal tilnærme arealet under grafen.\n",
    "\n",
    "![title](Trapesmetoden2.png)\n",
    "fig(5): Grafen til testfunksjonen mellom $x=a$ og $x=b$ og 100 trapeser som skal tilnærme arealet under grafen.\n",
    "\n",
    "Som man kanskje ser på figurene er trapesmetoden en veldig god metode i utgangspunktet, og det kan være vanskelig å se, men feilen man vil få her, er ikke at integralet er for stort, som man kan åpenbart se på rektangelmetoden, men at det er små luker mellom grafen og trapestoppene, disse lukker seg heldigvis i samsvar med økt n-verdi."
   ]
  },
  {
   "cell_type": "markdown",
   "metadata": {},
   "source": [
    "#### Implementering i Python"
   ]
  },
  {
   "cell_type": "code",
   "execution_count": 8,
   "metadata": {},
   "outputs": [
    {
     "name": "stdout",
     "output_type": "stream",
     "text": [
      "For n = 3 er integralet tilnærmet: 0.8336651200085852\n"
     ]
    }
   ],
   "source": [
    "# Trapesmetoden som en funksjon\n",
    "def trapesMetoden(f, a, b, n):\n",
    "    '''\n",
    "    f: funksjonen som skal integreres, type: function\n",
    "    a: startvariabelen, type: float\n",
    "    b: sluttvariabelen, type: float\n",
    "    n: antall trapeser, type: int\n",
    "    \n",
    "    returnerer tilnæmring av integralet som float\n",
    "    '''\n",
    "    areal = 0.0                    #Starter med et areal som er lik null\n",
    "    deltax = (b - a)/n             #Av definisjonen ser vi at deltax skal være definert slik\n",
    "    \n",
    "    areal += (f(a) + f(b))/2.0     #Fra definisjonen ser vi at dette tilsvarer første leddet inne i parantesen\n",
    "    \n",
    "    for k in range(1, n):\n",
    "        areal += f(a + k* deltax)  #Denne for-løkken tilsvarer summen man ser i definisjonen\n",
    "    areal *= deltax                #Til slutt multipliseres hele utrykket med deltax som vises i definisjonen\n",
    "    return areal\n",
    "\n",
    "# Her gjør vi metoden om til et objekt i integrasjonsmetodeklassen\n",
    "Trapes = robustMetode(trapesMetoden)\n",
    "\n",
    "# Bare printer ut tilnærmingen for n = 3 ved hjelp av en metode i klassen\n",
    "Trapes.printFor3(f, a, b)"
   ]
  },
  {
   "cell_type": "markdown",
   "metadata": {},
   "source": [
    "#### Presisjonen til metoden\n",
    "Nå som vi har implementert metoden i Python, kan vi utnytte en av metodene som tilhører subklassen. Vi kan da sjekke hvor nærme funksjonen er den ønskede verdien for ulike n-verdier. Vi kan også sjekke hvor lang tid programmet tar for denne n-verdien:"
   ]
  },
  {
   "cell_type": "code",
   "execution_count": 9,
   "metadata": {},
   "outputs": [
    {
     "name": "stdout",
     "output_type": "stream",
     "text": [
      "For n = 10 : 0.8407696420884196\n",
      "--- 0.0 sekunder ---\n",
      "For n = 100 : 0.8414639725380028\n",
      "--- 0.0 sekunder ---\n",
      "For n = 1000 : 0.8414709146853124\n",
      "--- 0.0009965896606445312 sekunder ---\n",
      "For n = 10000 : 0.8414709841066743\n",
      "--- 0.010970354080200195 sekunder ---\n",
      "For n = 100000 : 0.8414709848008656\n",
      "--- 0.1127009391784668 sekunder ---\n",
      "For n = 1000000 : 0.8414709848078178\n",
      "--- 1.0203299522399902 sekunder ---\n",
      "For n = 10000000 : 0.841470984807878\n",
      "--- 11.531951904296875 sekunder ---\n"
     ]
    }
   ],
   "source": [
    "Trapes.presisjon(f, a, b)"
   ]
  },
  {
   "cell_type": "markdown",
   "metadata": {},
   "source": [
    "Her igjen ser man at tiden tidobler seg hver gang n-verdien tidobler seg. I kjøringen jeg hadde her (siste tiden på rundt 10 sekunder blank) brukte pc-en kortere tid på å regne enn ved rektangelmetoden. nok tilfeldigheter i programvaren, ettersom begge teoretisk sett skal kjøre gjennom like mange operasjoner. Så var det presisjonen. Verdien vi vil se er tilnærmet som følger:\n",
    "\n",
    "$$0.8414709848079$$\n",
    "\n",
    "Dersom vi ser på resultatet for 1E7 trapeser, er svaret riktig frem til siste decimalen. En stor forbedring. Det kan hende at den egentlig er mer presis enn testsvaret jeg har, ettersom jeg har en begrensning på 15 desimaler. Men nå som vi har nådd en grense av det jeg får målt når det kommer til presisjon, gjelder det å kunne nå denne grensen ved et lavere n-verdi. Kan vi finne en enda bedre metode?"
   ]
  },
  {
   "cell_type": "markdown",
   "metadata": {},
   "source": [
    "### Simpsons Metode"
   ]
  },
  {
   "cell_type": "markdown",
   "metadata": {},
   "source": [
    "#### Teori\n",
    "\n",
    "Den største forskjellen mellom de to siste metodene er toppen på rektangelbasen, og Simpsons metode er inget unntak. Dersom man analyserer først rektangelmetoden, kan man se at toppen baserer seg på et nulltegradspolynom, deretter kommer trapesmetoden som baserer seg på et førstegradspolynom, da er det naturlig at neste metode, Simpsons metode, baserer seg på et andregradspolynom. Vi kaller disse metodene for _Newton-Cotes-metoder_ etter som fellestrekkene ligger i at i deler inn grunnlinja i like store deler, mens variasjonen ligger i toppen av funksjonen. Simpsons metode som vi nå skal ta for oss gir ofte veldig gode resultater, så vi får se hvorviddt det hjelper, men først må vi utlede den.\n",
    "\n",
    "For å utlede Simpsons metode kan vi starte med det enkleste tilfellet hvor vi har en parabel som spenner over hele intervallet $[a, b]$. Vi finner da polynomet $p_2$ som interpolerer funksjonen $f$ som vi skal integrere for $a$, $a_{1/2} = \\frac{a + b}{2}$ og $b$ og så tilnærme integralet til $f$ ved integralet til $p_2$. Og for å gjøre dette lettere for oss skriver vi polynomet $p_2$ som et _Lagrange polynom_(snakker om denne metoden lenger nede i rapporten). En annen forenkling vi gjør er at vi først utleder metoden for intervallet $[-1, 1]$.\n",
    "\n",
    "Skrevet som et _Lagrange polynom_ er polynomet som interpolerer $f$ i $-1$, $0$ og $1$ som følger:\n",
    "\n",
    "$$p_2(x) = f(-1)\\,\\frac{x(x-1)}{2} - f(0)\\,(x+1)\\,(x-1) + f(1)\\,\\frac{(x+1)x}{2}$$\n",
    "\n",
    "Når vi har polynomet $p_2$ vil vi videre integrere de tre polynomene vi har i utrykket hver for seg:\n",
    "\n",
    "Det første:\n",
    "\n",
    "$$\\int_{-1}^{1}\\frac{x(x-1)}{2}\\,dx = \\frac{1}{2}\\int_{-1}^{1}x(x-1)\\,dx$$\n",
    "\n",
    "$$= \\frac{1}{2}\\int_{-1}^{1}x^2-x \\,dx = \\frac{1}{2}\\left[\\frac{1}{3}x^3 - \\frac{1}{2}x^2\\right]_{-1}^{1}$$\n",
    "\n",
    "$$= \\frac{1}{2}(\\frac{1}{3}-\\frac{1}{2}+\\frac{1}{3}+\\frac{1}{2}) = \\frac{1}{3}$$\n",
    "\n",
    "Det andre:\n",
    "\n",
    "$$\\int_{-1}^{1}-(x+1)(x-1)\\,dx = -\\int_{-1}^{1}(x+1)(x-1)\\,dx$$\n",
    "\n",
    "$$= -\\int_{-1}^{1}x^2-1 \\,dx = -\\left[\\frac{1}{3}x^3 - x\\right]_{-1}^{1}$$\n",
    "\n",
    "$$= -(\\frac{1}{3} - 1 + \\frac{1}{3} - 1) = -(-\\frac{4}{3}) = \\frac{4}{3}$$\n",
    "\n",
    "Det tredje:\n",
    "\n",
    "$$\\int_{-1}^{1}\\frac{(x+1)x}{2}\\,dx = \\frac{1}{2}\\int_{-1}^{1}(x+1)x \\,dx$$\n",
    "\n",
    "$$= \\frac{1}{2}\\int_{-1}^{1}x^2+x \\,dx = \\frac{1}{2}\\left[\\frac{1}{3}x^3 + \\frac{1}{2}x^2\\right]_{-1}^{1}$$\n",
    "\n",
    "$$= \\frac{1}{2}(\\frac{1}{3}+\\frac{1}{2}+\\frac{1}{3}-\\frac{1}{2}) = \\frac{1}{3}$$\n",
    "\n",
    "\n",
    "Her ser vi at alle de tre polynomene tilsvarer $\\frac{1}{3}$ eller en multippel av denne verdien, og kan derfor si at Simpsons metode for intervallet $[-1, 1]$ tilsvarer:\n",
    "\n",
    "$$\\int_{-1}^{1}f(x) \\,dx \\approx \\frac{1}{3}\\,(f(-1) + 4\\,f(0) + f(1))$$\n",
    "\n",
    "Videre skal vi prøve å generalisere dette utrykket for intervallet $[a, b]$, ettersom det er det vi har lyst til å ende opp med. Vi skal nå bruke et lite triks for å finne en spesiell sammenheng mellom $x$ og $y$. Vi sier at de er tilknyytet på denne måten:\n",
    "\n",
    "$$x = (b-a)\\,\\frac{y+1}{2}+a$$\n",
    "\n",
    "Her kan vi se at når $y$ varierer i intervallet $[-1, 1]$, varierer $x$ i intervallet $[a, b]$. Hvis vi nå greier å bruke det vi har og utlede metoden for $f(y)$ i intervallet $[-1, 1]$, kan vi også si at vi har utledet det for $x$ i intervallet $[a, b]$ dersom sammenhengen ikke er brutt.\n",
    "\n",
    "Vi skal nå utføre et variabelskifte i utrykket vårt. Altså vi sier:\n",
    "\n",
    "$$dx = \\frac{(b-a)\\,dy}{2}$$\n",
    "\n",
    "Vi får da:\n",
    "\n",
    "$$\\int_{a}^{b}f(x)\\,dx = \\int_{-1}^{1}\\,f(\\frac{b-a}{2}\\,(y+1) + a) \\,dy = \\frac{b-a}{2}\\,\\int_{-1}^{1} \\tilde{f}\\,dy$$\n",
    "\n",
    "Hvor:\n",
    "\n",
    "$$\\tilde{f}(y) = f(\\frac{b-a}{2}\\,(y+1) + a)$$\n",
    "\n",
    "Vi bruker nå det vi kom frem til tidliger for å tilnærme integralet til $\\tilde{f}(y)$ i intervallet $[-1, 1]$:\n",
    "\n",
    "$$\\int_{-1}^{1}\\tilde{f}(y)\\,dy \\approx \\frac{1}{3}\\,(\\tilde{f}(-1) + 4\\,\\tilde{f}(0) + \\tilde{f}(1)) = \\frac{1}{3}(f(a) + 4\\,f(a_{\\frac{1}{2}}) + f(b))$$\n",
    "\n",
    "Så her har vi kommet frem til Simpsons generelle metode for intervallet $[a, b]$, men vi er ikke helt i mål ennå, fordi vi vil ha det så presist som overhode mulig, og da må vi innføre at vi kan øke antall parabler og dele opp intervallet i delintervaller. Vi må da utlede en sammensatt versjon av denne metoden. Og når vi først har kommet der vi er nå, er det ikke så mye igjen.\n",
    "\n",
    "Hvis skilleveggen mellom de ulike delintervallene er gitt ved $\\{x_i\\}_{i = 0}^{2n}$ og $x_i = a + ih$ så vil resultatet for intervallet $[x_{2i-2}, x{2i}]$ se slik ut:\n",
    "\n",
    "$$\\int_{x_{2i-2}}^{x{2i}}f(x)\\,dx \\approx \\frac{\\Delta x}{3}\\,(f(x_{2i-2}) + 4\\,f(x_{2i-1}) + f(x_{2i})$$\n",
    "\n",
    "Legg merke til at her har vi også innført $\\Delta x$ utenfor parantesen, og dette skal da tilsvare bredden på det ønskede delintervallet som vi viser integralet til her. Tilnærmingen av det hele intervallet vil da i dette tilfellet være:\n",
    "\n",
    "$$\\int_{a}^{b}f(x)\\,dx \\approx \\frac{\\Delta x}{3}\\,\\sum_{i=1}^{n}(f(x_{2i-2}) + 4\\,f(x_{2i-1}) + f(x_{2i})$$\n",
    "\n",
    "Men vi er fortsatt ikke helt i mål. Vi kan se at i summen vil det høyre endepunktet i den ene iterasjonen tilsvare det venstre endepunktet i neste iterasjon. Vi kan da si at alle endepunktene regnes to ganger, untatt da de ekstreme endepunktene $a$ og $b$. Disse tas kun i betraktning en gang. Vi kan da skrive om utrykket slik:\n",
    "\n",
    "$$\\int_{a}^{b}f(x)\\,dx \\approx \\frac{\\Delta x}{3}\\,(f(a) + f(b) + 2\\,\\sum_{i = 1}^{n - 1}f(x_{2i}) + 4\\,\\sum_{i = 1}^{n}f(x_{2i - 1}))$$\n",
    "\n",
    "Og det er da det endelige utrykket for Simpsons metode hvor man har $n$ antall parabler og skal måle integralet til $f$ innenfor intervallet $[a, b]$. Merk at jeg har ikke utledet hele denne metoden selvstendig. I motsetning til de tidligere metodene hentet jeg inspirasjon fra denne pdf-filen: https://www.uio.no/studier/emner/matnat/math/MAT-INF1100/h11/kompendiet/chap12.pdf . Den hjalp veldig med å både forstå og forklare metoden.\n",
    "\n",
    "__Definisjon__: Det bestemte integralet til en funksjon $f(x)$ fra $x = a$ til $x = b$ kan tilnærmes ved $n$ parabler med bredden $\\Delta x = \\frac{b-a}{n}$ slik:\n",
    "\n",
    "$$\\int_{a}^{b}f(x)\\,dx \\approx \\frac{\\Delta x}{3}\\,(f(a) + f(b) + 2\\,\\sum_{k = 1}^{n - 1}f(x_{2k}) + 4\\,\\sum_{k = 1}^{n}f(x_{2k - 1}))$$"
   ]
  },
  {
   "cell_type": "markdown",
   "metadata": {},
   "source": [
    "#### Illustrasjon av metoden\n",
    "\n",
    "Under vil vi kunne se to illustrasjoner jeg har generert med et eksternt pythonprogram som er å finne i samme repositry som notebooken (SimpsonsMetodeIllustratør.py). De gir fine visualiseringer over hva metoden går ut på. De viser grafen til testfunksjonen og parablene som tilnærmer integralet for $n=3$ og $n = 10$. I motsetning til de andre metodene velger jeg her å inkludere litt lavere n-verdier for å kunne fokusere på detaljene de gir oss:\n",
    "\n",
    "![title](Simpsonsmetode1.png)\n",
    "fig(6): Grafen til testfunksjonen mellom $x=a$ og $x=b$ og 3 parabler som skal tilnærme arealet under grafen.\n",
    "\n",
    "![title](Simpsonsmetode2.png)\n",
    "fig(7): Grafen til testfunksjonen mellom $x=a$ og $x=b$ og 10 parabler som skal tilnærme arealet under grafen.\n",
    "\n",
    "Selv om jeg valgte mindre verdier for $n$ på disse illustrasjonene, ser integralet nesten helt plettfritt ut for selv $n = 3$. Det betyr mest sannsylig at vi har funnet en veldig bra metode, Og den er det. Personlig kan jeg ikke se noen åpninger eller overlapninger på testfunksjonen min med denne metoden. Et problem var bare å faktisk tegne disse grafene. Dersom du ser i det eksterne python-programmet hvor jeg har generert bildene, har jeg skrevet en funksjon som tilsvarer en parabel som interpolerer i to endepunkt og et midtpunkt i Lagrange form. Når jeg lagde det programmet hadde jeg fått en error på den linjen, men jeg visste ikke hvor den var. Det tok en god 20-minutter før jeg fant ut av at jeg hadde glemt en parantes midt oppi det hele, men nå går vi videre til å implementere metoden i Python."
   ]
  },
  {
   "cell_type": "markdown",
   "metadata": {},
   "source": [
    "#### Implementering i Python"
   ]
  },
  {
   "cell_type": "code",
   "execution_count": 10,
   "metadata": {},
   "outputs": [
    {
     "name": "stdout",
     "output_type": "stream",
     "text": [
      "For n = 3 er integralet tilnærmet: 0.5911255656807878\n"
     ]
    }
   ],
   "source": [
    "# Simpsons Metode som en funksjon\n",
    "def simpsonsMetode(f, a, b, n):\n",
    "    '''\n",
    "    f: funksjonen som skal integreres, type: function\n",
    "    a: startvariabelen, type: float\n",
    "    b: sluttvariabelen, type: float\n",
    "    n: antall parabler, type: int\n",
    "    \n",
    "    returnerer tilnærming av integralet som float\n",
    "    '''\n",
    "    dx = (b-a)/n                #Av definisjonen ser vi at deltax skal være definert slik\n",
    "    areal = 0                   #Starter med et areal som er lik null\n",
    "    areal += f(a) + f(b)        #Fra definisjonen ser vi at dette tilsvarer de to første leddene i parantesen\n",
    "    for k in range(1, n, 2):\n",
    "        areal += 4*f(a + k*dx)  #For-løkke som tilsvarer summen av midtpunktene på alle parablene\n",
    "    for k in range(2, n-1, 2):\n",
    "        areal += 2*f(a + k*dx)  #For-løkke som tilsvarer summen av alle endepunktene på alle parablene\n",
    "    areal *= dx/3               #Av definisjonen skal det hele multipliseres med følgende utenfor parantesen\n",
    "    return areal\n",
    "\n",
    "# Her gjør vi metoden om til et objekt i integrasjonsmetodeklassen\n",
    "Simpson = robustMetode(simpsonsMetode)\n",
    "\n",
    "# Bare printer ut tilnærmingen for n = 3 ved hjelp av en metode i klassen\n",
    "Simpson.printFor3(f, a, b)"
   ]
  },
  {
   "cell_type": "markdown",
   "metadata": {},
   "source": [
    "#### Presisjonen til metoden\n",
    "\n",
    "Nå som metoden er et objekt i klassen vår kan vi sjekke dens tilnærming for en rekke n-verdier samt tiden den bruker på de forskjellige verdiene ved hjelp av den underbare presisjonsmetoden i subklassen:"
   ]
  },
  {
   "cell_type": "code",
   "execution_count": 11,
   "metadata": {},
   "outputs": [
    {
     "name": "stdout",
     "output_type": "stream",
     "text": [
      "For n = 10 : 0.8414714528488904\n",
      "--- 0.0 sekunder ---\n",
      "For n = 100 : 0.8414709848546457\n",
      "--- 0.0 sekunder ---\n",
      "For n = 1000 : 0.8414709848079005\n",
      "--- 0.0019576549530029297 sekunder ---\n",
      "For n = 10000 : 0.8414709848078992\n",
      "--- 0.014959573745727539 sekunder ---\n",
      "For n = 100000 : 0.8414709848079122\n",
      "--- 0.15063977241516113 sekunder ---\n",
      "For n = 1000000 : 0.8414709848078857\n",
      "--- 1.5438146591186523 sekunder ---\n",
      "For n = 10000000 : 0.8414709848079387\n",
      "--- 15.15578556060791 sekunder ---\n"
     ]
    }
   ],
   "source": [
    "Simpson.presisjon(f, a, b)"
   ]
  },
  {
   "cell_type": "markdown",
   "metadata": {},
   "source": [
    "Først og fremst kan vi her se at i forhold til de tidligere metodene, tar denne metoden lenger tid. Det er ikke uventet og kommer av flere operasjoner som trengs å gjøre. Selv om det er flere operasjoner, vil kompleksiteten gjennom Big-Oh notasjon være lik, ettersom endringen fortsatt er er på rundt 10 ganger så lang tid for 10 ganger så stor n-verdi. Vi kan se på det med kompleksitet senere. Så kan vi se på presisjonen til funksjonen i forhold til testverdien vi ønsker å få:\n",
    "\n",
    "$$0.8414709848079$$\n",
    "\n",
    "Vi kan se her at allerede ved $n = 100$ har vi et presist svar frem til det desimal nummer 11. I forhold til rektangelmetoden som hadde en et presist tall frem til desimal nummer 6, ved en n-verdi på 1E7 så tyder jo dette åpenbart på at dette er en bedre metode når det kommer til presisjon. Når vi øker n deretter ser vi at den har alle de 15 desimalene jeg vet om allerede ved en n-verdi på 1E5, noe som tyder veldig godt.\n",
    "\n",
    "Nå har vi gått igjennom alle de tre metodene som er oppgitt i boken. Jeg velger å se på dem ved at de alle baserer seg på polynomer av ulik grad: rektangelmetoden med nullte grad, trapesmetoden med første grad og Simpsons metode med andre grads. Man kan stille seg spørsmålet om det finnes liknende metoder som baserer seg på polynomer i enda høyere grad, men akkurat det nekter jeg å utforske nå, ettersom jeg er rimelig lei blant annet interpolering og polynomer på Lagrange form, men det er bare meg. Vi har jo uansett nådd en stor milepæl når det kommer til presisjon i integrasjonen, så nå tenker jeg å bare utforske noen andre metoder utenom de i boken, for variasjonens skyld. Av alt jeg vet kan de være mye bedre, eller mye verre forsåviddt, men det får vi finne ut av."
   ]
  },
  {
   "cell_type": "markdown",
   "metadata": {},
   "source": [
    "### Monte Carlo-Integrasjon"
   ]
  },
  {
   "cell_type": "markdown",
   "metadata": {},
   "source": [
    "#### Teori\n",
    "Monte Carlo-integrasjon er mildt sagt veldig annerledes sammenliknet med de tre andre metodene vi har gått igjennom. De tre andre metodene har som sagt vært Newton-Cotes metoder, hvor vi deler inn integralet i et bestemt antall mangekanter hvor alle mangekantene har lik bredde. Monte Carlo-integrasjon derimot tar oss i en helt annen retning. Det er en teknikk for å løse bestemte integraler ved hjelp av tilfeldige punkter innenfor et område. Det går da ut på at forholdet mellom alle punktene og antall punkter \"under grafen\" vil være lik integralet til grafen. En ting som kommer til tankene når man leser om dette, er at den kan virke veldig usikker, noe den strengt tatt er for lavere verdier av N. Alle numeriske metoder innebærer en hvis usikkerhet, men det er nok noe i det at det er tilfeldig. I så fall tror jeg at man bør forstå at med ekstreme N-verdier blir det en viss sikkerhet i det usikre, altså det store bildet er ikke lenger så tilfeldig som man først tenker. En annen ting å legge merke til er hvordan de andre metodene vi har gått igjennom er deterministiske metoder, mens Monte Carlo-integrasjon er en ikke deterministisk metode. Med dette menes at de tre første metodene vil alltid gi sammen output for et bestemt input. Monte Carlo-integrasjon derimot, siden den baserer seg på tilfeldigheter gir ikke alltid samme output for et bestemt input. Dette kan føre til både fordeler og ulemper i metoden.\n",
    "\n",
    "Vanligvis ville jeg, ved dette punktet, utledet metoden, men jeg tenker at det ikke er noen grunn til å utlede denne metoden, ettersom den strengt tatt er beskrevet at du velger $N$ antall tilfeldige punkter og teller opp antall punkter, $M$, som havnet \"under grafen\". Deretter multipliserer vi arealet av testområdet med forholdet $\\frac{M}{N}$ for da å få integralet."
   ]
  },
  {
   "cell_type": "markdown",
   "metadata": {},
   "source": [
    "#### Illustrasjon av metoden\n",
    "\n",
    "Akkurat som jeg har gjort på de tidligere metodene, skal jeg også her visualisere hvordan metoden funker med noen illustrasjoner over metoden for ulike N-verdier. Jeg vil også her ha generert bildene i et eksternt program i samme repositry (Filen heter MonteCarloIntegrasjonIllustratør.py). Verdt å merke er at bildene her vil se litt annerledes ut enn de tidligere, ettersom det vil være en rekke punkter som dekker det hele. Det vil også være en fargekoding for punktene hvor punktene som markerer under graven er \"blå\" og de som er over er markert med \"rød\":\n",
    "\n",
    "![title](MonteCarloIntegrasjon1.png)\n",
    "fig(8): Grafen til testfunksjonen mellom $x=a$ og $x=b$ og 10 punkter som skal tilnærme arealet under grafen.\n",
    "\n",
    "![title](MonteCarloIntegrasjon2.png)\n",
    "fig(9): Grafen til testfunksjonen mellom $x=a$ og $x=b$ og 1E5 punkter som skal tilnærme arealet under grafen.\n",
    "\n",
    "To ting som er verdt å merke fra hovedsaklig det siste bildet. er at:\n",
    "a) Noen steder oppe ved selve grafen er det noen steder hvor punktene ser ut til å overlappe selve grafen. Nei, de gjør ikke det. Dette er en illusjon som kommer av at punktene jeg har brukt her har en radius. i realiteten skal de egentlig ikke ha noen radius.\n",
    "b) Selv på den med 10000 punkter er det små tomrom rundt om på illustrasjonen. Det kommer av at man ikke har tatt nokk punkter rett og slett. For som alle andre numeriske metoder vil de ikke være helt nøyaktig før man har en uendelig størrelse med punkter. Dette går dessverre ikke helt, så vi får nøye oss med bestemte mengder for nå."
   ]
  },
  {
   "cell_type": "markdown",
   "metadata": {},
   "source": [
    "#### Implementering i Python"
   ]
  },
  {
   "cell_type": "code",
   "execution_count": 12,
   "metadata": {},
   "outputs": [
    {
     "name": "stdout",
     "output_type": "stream",
     "text": [
      "For n = 3 er integralet tilnærmet: 0.6666666666666666\n"
     ]
    }
   ],
   "source": [
    "# Monte Carlo-integrasjon som en funksjon\n",
    "def monteCarloIntegrasjon(f, a, b, n, hoyde=0):\n",
    "    '''\n",
    "    f: funksjonen som skal integreres, type: function\n",
    "    a: startvariabelen, type: float\n",
    "    b: sluttvariabelen, type: float\n",
    "    n: antall punkter, type: int\n",
    "    hoyde: høyden langs y-aksen på området man skal ta hensyn til, type: float\n",
    "    \n",
    "    returnerer tilnærming av arealet som float\n",
    "    '''\n",
    "    if hoyde == 0:\n",
    "        hoyde = (b-a)                    # Høyden på rektangelet vi plasserer punktene innenfor\n",
    "    \n",
    "    bredde = (b-a)                       # Bredden på rektangelet vi passerer punktene innenfor\n",
    "    \n",
    "    M = 0                                # Tellevariabel som teller antall punkter 'under grafen'\n",
    "    for i in range(n):\n",
    "        x = random.uniform(a, b)         # En tilfeldig x-verdi innenfor definisjonsmengden\n",
    "        y = random.uniform(0, hoyde)         # En tilfeldig y-verdi innenfor verdimengden\n",
    "        if y <= f(x):                    # Sjekker om punktet er over eller under\n",
    "            M += 1\n",
    "    return bredde*hoyde*(M/n)            # Returnerer arealet til området punktene er i multiplisert med forholdet mellom alle punktene og punktene 'under grafen'\n",
    "\n",
    "\n",
    "# Her gjør vi metoden om til et objekt i integrasjonsmetodeklassen\n",
    "MonteCarlo = robustMetode(monteCarloIntegrasjon)\n",
    "\n",
    "# Bare printer ut tilnærmingen for n = 3 ved hjelp av en metode i klassen\n",
    "MonteCarlo.printFor3(f, a, b)  "
   ]
  },
  {
   "cell_type": "markdown",
   "metadata": {},
   "source": [
    "#### Presisjonen til metoden\n",
    "Nå som metoden er et objekt i klassen, kan vi utføre forskjellige metoder på den. Blant annet en for å sjekke presisjonen. Jeg vil på forhånd anta at svarene her kan skille seg ut fra de vi har fått tidligere."
   ]
  },
  {
   "cell_type": "code",
   "execution_count": 13,
   "metadata": {},
   "outputs": [
    {
     "name": "stdout",
     "output_type": "stream",
     "text": [
      "For n = 10 : 0.8\n",
      "--- 0.0009970664978027344 sekunder ---\n",
      "For n = 100 : 0.86\n",
      "--- 0.0 sekunder ---\n",
      "For n = 1000 : 0.846\n",
      "--- 0.0019922256469726562 sekunder ---\n",
      "For n = 10000 : 0.8409\n",
      "--- 0.01894998550415039 sekunder ---\n",
      "For n = 100000 : 0.84276\n",
      "--- 0.1680138111114502 sekunder ---\n",
      "For n = 1000000 : 0.840986\n",
      "--- 1.6068472862243652 sekunder ---\n",
      "For n = 10000000 : 0.8414091\n",
      "--- 16.880372047424316 sekunder ---\n"
     ]
    }
   ],
   "source": [
    "MonteCarlo.presisjon(f, a, b)"
   ]
  },
  {
   "cell_type": "markdown",
   "metadata": {},
   "source": [
    "Verdien vi nå ønsket er som følger:\n",
    "\n",
    "$$0.8414709848079$$\n",
    "\n",
    "Monte Carlo-integrasjon er som man kan se ikke bare ganske unøyaktig selv for ganske stor n, men den tar rimelig lang tid også, sikkert på grunn av metodene for å generere et psuedo-tilfeldig tall. Kort sagt, er kanskje ikke dette metoden å gå for dersom du er ute etter presisjon, eller hastighet for den saks skyld.\n",
    "\n",
    "Det er vel ikke så mye mer å si om metoden egentlig, vi kan stikke innom en metode til nå til slutt. På forhånd har jeg ikke mye kjennskap til denne metoden, men jeg håper på at den er en mer aktuell kandidat til presisjon enn det Monte Carlo-Integrasjon var."
   ]
  },
  {
   "cell_type": "markdown",
   "metadata": {},
   "source": [
    "### Gauss-Kvadratur"
   ]
  },
  {
   "cell_type": "markdown",
   "metadata": {},
   "source": [
    "Gauss-Kvadratur er den siste metoden jeg kommer til å gå igjennom. Den er en deterministisk metode som jobber utifra diskrete data. Metoden går ut på følgende:\n",
    "\n",
    "$$\\int_{-1}^{1}f(x)\\,dx \\approx \\sum_{i=1}^{n}w(x_i)\\,f(x_i)$$\n",
    "\n",
    "Her sier vi at integralet til $f(x)$ i intervallet: $[-1, 1]$ er tilnærmet lik summen av $n$ utrykk av en vekt regnet utifra $x_i$ multiplisert med $f(x_i)$. \n",
    "\n",
    "Målet er da å finne de beste verdiene for x_i, slik at tilnærmingen er best mulig.\n",
    "\n",
    "Så ideen er at vi erstatter funksjonen vår med en gjetting:\n",
    "\n",
    "$$\\hat{f}(x)=a_0$$\n",
    "\n",
    "Denne første gjettingen er ganske enkel. Den er da kun en konstant, $a_0$, men dette er nok ikke et godt nok gjett, så vi ekspanderer erstatningen vår:\n",
    "\n",
    "$$\\hat{f}(x)=a_0 + a_1\\,x$$\n",
    "\n",
    "Det viser seg nå at for alle linjære modeller kan vi finne eksakte vekter og x-verdier som sikrer oss følgende:\n",
    "\n",
    "$$\\int_{-1}^{1}f(x)\\,dx = \\sum_{i=1}^{n}w(x_i)\\,f(x_i)$$\n",
    "\n",
    "Altså vi vil få et eksakt svar. (kun for linjære modeller for nå). Problemet nå er at vi ofte vil jobbe med utrykk i høyere grad enn akkurat første grad. Da kan vi ekspandere erstatningen vår enda mer:\n",
    "\n",
    "$$\\hat{f}(x)=a_0 + a_1\\,x + a_2\\,x^2 + a_3\\,x^3$$\n",
    "\n",
    "Nå kan vi da finne enda flere vekter og x-verdier slik at vi kan finne eksakt verdi for alle polynomer opp til 3-grad. Forhåpentligvis er da denne tredjegradsgjettingen en bedre tilnærming enn en linjærgjetting, men dette er da fortsatt ikke nødvendigvis den beste. Da kan vi legge til enda mer:\n",
    "\n",
    "$$\\hat{f}(x)=a_0 + a_1\\,x + a_2\\,x^2 + a_3\\,x^3 + a_4\\,x^4 + a_5\\,x^5$$\n",
    "\n",
    "Dette er da igjen forhåpentligvis en bedre tilnærming enn det forrige utrykket. Poenget her er å se mønsteret.\n",
    "\n",
    "Nå er det på tide å ta et steg videre i metoden. Nå skal vi se på hvordan vi kan finne disse ukjente x-verdiene og da også vektene. Da starter vi først med den linjære modellen:\n",
    "\n",
    "Gauss-Kvadratur er den siste metoden jeg kommer til å gå igjennom. Den er en deterministisk metode som jobber utifra diskrete data. Metoden går ut på følgende:\n",
    "\n",
    "$$\\int_{-1}^{1}f(x)\\,dx \\approx \\sum_{i=1}^{n}w(x_i)\\,f(x_i)$$\n",
    "\n",
    "Her sier vi at integralet til $f(x)$ i intervallet: $[-1, 1]$ er tilnærmet lik summen av $n$ utrykk av en vekt regnet utifra $x_i$ multiplisert med $f(x_i)$. \n",
    "\n",
    "Målet er da å finne de beste verdiene for x_i, slik at tilnærmingen er best mulig.\n",
    "\n",
    "Så ideen er at vi erstatter funksjonen vår med en gjetting:\n",
    "\n",
    "$$\\hat{f}(x)=a_0$$\n",
    "\n",
    "Denne første gjettingen er ganske enkel. Den er da kun en konstant, $a_0$, men dette er nok ikke et godt nok gjett, så vi ekspanderer erstatningen vår:\n",
    "\n",
    "$$\\hat{f}(x)=a_0 + a_1\\,x$$\n",
    "\n",
    "Det viser seg nå at for alle linjære modeller kan vi finne eksakte vekter og x-verdier som sikrer oss følgende:\n",
    "\n",
    "$$\\int_{-1}^{1}f(x)\\,dx = \\sum_{i=1}^{n}w(x_i)\\,f(x_i)$$\n",
    "\n",
    "Altså vi vil få et eksakt svar. (kun for linjære modeller for nå). Problemet nå er at vi ofte vil jobbe med utrykk i høyere grad enn akkurat første grad. Da kan vi ekspandere erstatningen vår enda mer:\n",
    "\n",
    "$$\\hat{f}(x)=a_0 + a_1\\,x + a_2\\,x^2 + a_3\\,x^3$$\n",
    "\n",
    "Nå kan vi da finne enda flere vekter og x-verdier slik at vi kan finne eksakt verdi for alle polynomer opp til 3-grad. Forhåpentligvis er da denne tredjegradsgjettingen en bedre tilnærming enn en linjærgjetting, men dette er da fortsatt ikke nødvendigvis den beste. Da kan vi legge til enda mer:\n",
    "\n",
    "$$\\hat{f}(x)=a_0 + a_1\\,x + a_2\\,x^2 + a_3\\,x^3 + a_4\\,x^4 + a_5\\,x^5$$\n",
    "\n",
    "Dette er da igjen forhåpentligvis en bedre tilnærming enn det forrige utrykket. Poenget her er å se mønsteret.\n",
    "\n",
    "Nå er det på tide å ta et steg videre i metoden. Nå skal vi se på hvordan vi kan finne disse ukjente x-verdiene og da også vektene. Da starter vi først med den linjære modellen:\n",
    "\n",
    "$$\\hat{f}(x)=a_0 + a_1\\,x$$\n",
    "\n",
    "Så det vi vil finne nå er som følger:\n",
    "\n",
    "$$w(x_1)\\,f(x_1) = \\int_{-1}^{1}f(x)\\,dx$$.\n",
    "\n",
    "For å gjøre det må vi finne våre to ukjente. Det vil si vekten og x-verdien. For å gjøre dette, trenger vi to likninger, men heldigvis kan vi få to likninger ved å se på vår linjære modell:\n",
    "\n",
    "Ved å se på konstanten i modellen:\n",
    "\n",
    "$$w(x_1)\\,1 = \\int_{-1}^{1}1\\,dx = 2$$\n",
    "\n",
    "Så ser vi på x-leddet i modellen:\n",
    "\n",
    "$$w(x_1)\\, x_1 = \\int_{-1}^{1}x\\,dx = 0$$\n",
    "\n",
    "$$\\Rightarrow x_1 = 0$$\n",
    "\n",
    "Dette sier oss da følgende for integralet til enhver linjær funksjon i intervallet $[-1, 1]$:\n",
    "\n",
    "$$\\int_{-1}^{1}f(x)\\,dx = 2\\,f(0)$$\n",
    "\n",
    "Hvorfor stemmer dette? Det vi har gjort er å først og fremst sjekke for alle modeller som er konstant. Vi sjekket for konstanten 1, men det har strengt tatt ingenting å si hvilket tall vi tar der. Vi har også sjekket at det funker for alle x-verdier i den linjære delen. Altså dette funker for alle linjære funksjoner f(x) og vil gi et eksakt svar. Vi kan til og med sjekke:\n",
    "\n",
    "$$f(x) = 4x - 5$$\n",
    "\n",
    "$$\\int_{-1}^{1} f(x)\\,dx= [2\\,x^2-5\\,x]_{-1}^{1} = -10$$\n",
    "\n",
    "$$\\int_{-1}^{1} f(x)\\,dx = 2\\,f(0) = -10$$\n",
    "\n",
    "Se, det funket!\n",
    "Nå skal vi prøve det samme, men denne gangen for en tredje-grads modell. I Gauss Kvadratur bruker man kun oddetalls gradene, slik jeg har forstått det. Så her prøver vi med en tredjegrads modell:\n",
    "\n",
    "$$\\hat{f}(x)=a_0 + a_1\\,x + a_2\\,x^2 + a_3\\,x^3$$\n",
    "\n",
    "$$w(x_1)\\,f(x_1) + w(x_2)\\,f(x_2) = \\int_{-1}^{1}f(x)\\,dx$$\n",
    "\n",
    "Nå har vi plutselig flere utrykk i utrykket vårt. Hvorfor det? Det viser seg at for høyere polynomer trenger vi flere ledd. Vi kan se på det som at vi trenger en ukjent for hvert ledd i modellen. Altså en tredjegradspolynom har 4 ledd, da trenger vi 4 ukjente. Her skal vi nå gjøre det samme som ved den linjære modellen:\n",
    "\n",
    "$$w(x_1) + w(x_2) = \\int_{-1}^{1} 1\\,dx = 2$$\n",
    "\n",
    "$$w(x_1)\\,x_1 + w(x_2)\\,x_2 = \\int_{-1}^{1} x\\,dx = 0$$\n",
    "\n",
    "$$w(x_1)\\,{x_1}^2 + w(x_2)\\,{x_2}^2 = \\int_{-1}^{1} x^2\\,dx = \\frac{2}{3}$$\n",
    "\n",
    "$$w(x_1)\\,{x_1}^3 + w(x_2)\\,{x_2}^3 = \\int_{-1}^{1} x^3\\,dx = 0$$\n",
    "\n",
    "Dette gir oss da følgende verdier:\n",
    "\n",
    "$$w(x_1) = w(x_2) = 1$$\n",
    "\n",
    "$$x_1 = -\\frac{1}{\\sqrt{3}}$$\n",
    "\n",
    "$$x_2 = \\frac{1}{\\sqrt{3}}$$\n",
    "\n",
    "Dette er da ganske fett. For det sier oss at vi trenger å utføre fire beregninger for å kunne bestemme det eksakte integralet til og med polynomer opp til tredje grad.\n",
    "\n",
    "Ved dette punktet er det naturlig å spørre seg selv om det er en mer generell metode hvor vi kan løse for alle oddetallsgradpolynomer. Det viser seg heldigvis at det er en generell metode. Den er litt komplisert, men den er der. Den utnytter noe kjent som Legrende polynomer (Ikke det samme som Lagrange polynomer). Vi kan markere opp disse polynomene under:\n",
    "\n",
    "| n | $P_n(x)$                     |\n",
    "|---|------------------------------|\n",
    "| 1 | $x$                          |\n",
    "| 2 | $\\frac{1}{2}\\,(3\\,x^2-5)$    |\n",
    "| 3 | $\\frac{1}{2}\\,(5\\,x^3-3\\,x)$ |\n",
    "\n",
    "Det går videre også, men det er bare å søke dem opp. Ideen er at dersom man finner røttene til disse polynomene vil det tilsvare x-verdien du må finne for et polynom av $2n-1$-te grad. Altså der $n = 2$ i legrende polynomene, gir det oss x-verdiene for en tredjegradspolynom også videre.\n",
    "\n",
    "Men det er mer, for vi trenger også vekten til de ulike verdiene, men her er det også en løsning knyttet til legrende polynomene. Det viser seg at vekten, w, for x-verdien $x_i$ kan utrykkes følgende:\n",
    "\n",
    "$$w(x_i) = \\frac{2}{(1-x^2)\\,[{P_n}'(x_1)]^2}$$\n",
    "\n",
    "Vi kan enkelt sjekke at dette stemmer ved å plotte inn verdiene vi fikk for tredje-gradspolynommodellen og se at vi får 1 som da var vekten i det tilfellet.\n",
    "\n",
    "Så nå har vi altså en måte å veldig eksakt tilnærme bestemte integraler. Kort fortalt går den ut på følgende:\n",
    "\n",
    "$$\\int_{-1}^{1} f(x)\\,dx = \\sum_{i = 1}^{n} w(x_i)\\,f(x_i)$$\n",
    "\n",
    "Hvor w kan beskrives slik:\n",
    "\n",
    "$$w(x_i) = \\frac{2}{(1-x^2)\\,[{P_n}'(x_1)]^2}$$\n",
    "\n",
    "og punktene $x_i$ kan man finne ved røttene til legendre polynomet ved tilsvarende n-verdi.\n",
    "\n",
    "Men vent, vi er ikke helt ferdige ennå! Det er kanskje lagt merke til, men gjennom hele gjennomgangen av metoden, er det vært tydelig at vi kun har regnet ut integralet i intervallet $[-1, 1]$. Er det mulig å kunne gjøre noe med dette, slik at vi får intervallet $[a, b]$ istedenfor? i kan heldigvis det med samme regler også. Alt vi trenger å gjøre er noe liknende som vi gjorde i utledningen av simpsons metode, altså bytte ut x. Da får vi noe sånt som dette:\n",
    "\n",
    "$$\\int_{a}^{b}f(x)\\,dx \\approx \\frac{b-a}{2}\\,\\sum_{i=1}^{n}w(x_i)\\,f(\\frac{b-a}{2}\\,x_i + \\frac{a+b}{2})$$"
   ]
  },
  {
   "cell_type": "markdown",
   "metadata": {},
   "source": [
    "#### Illustrasjon av metoden\n",
    "\n",
    "Denne metoden ga litt vansker i prosessen av å bli visualisert. Det er mye grunnet av at den ikke fungerer likt som de andre visualisert. De andre funksjonene var enkle å visualisere, på grunn av at de gikk ut på geometriske figuerer eller liknende. Gauss-Kvadratur derimot går ut på visse x-verdier, som jeg kunne vist frem, men personlig tenker jeg at det ikke er verdt det."
   ]
  },
  {
   "cell_type": "markdown",
   "metadata": {},
   "source": [
    "#### Implementering i Python  "
   ]
  },
  {
   "cell_type": "code",
   "execution_count": 14,
   "metadata": {},
   "outputs": [
    {
     "name": "stdout",
     "output_type": "stream",
     "text": [
      "For n = 3 er integralet tilnærmet: 0.8412698476382185\n"
     ]
    }
   ],
   "source": [
    "# Gauss-Kvadratur som en funksjon\n",
    "def gaussKvadratur(f, a, b, n):\n",
    "    '''\n",
    "    f: funksjonen som skal integreres, type: function\n",
    "    a: startvariabelen, type: float\n",
    "    b: sluttvariabelen, type: float\n",
    "    n: antall punkter vi skal gå etter, type: int, må være oddetall større enn eller lik 1\n",
    "    \n",
    "    returnerer tilnærming av integralet som float\n",
    "    '''\n",
    "    if n % 2 == 0 or n < 1:                         #I Gauss-Kvadratur må n være et oddetall større enn eller lik 1\n",
    "        return None\n",
    "    \n",
    "    \n",
    "    def nyF(x):                                     #Funksjon som endrer intervallet, ettersom Gauss-kvadratur egentlig kun er ment for intervallet [-1, 1]\n",
    "        '''\n",
    "        x: Inputten til funksjonen, type: float eller np.array\n",
    "        '''\n",
    "        return ((b - a) / 2) * f(((b - a) / 2) * x + ((a + b) / 2))\n",
    "    \n",
    "    \n",
    "    areal = 0.0                                     #Arealet starter på null\n",
    "    \n",
    "\n",
    "    leg = pylab.array(legendre(int((n + 1)/2)))     #Legendre polynomet i N-te grad feil vei. Ønsket Legendre grad er gitt ved: (n + 1)/2, hvis vi vrir om på dette får vi den generelle beskrivelsen av alle oddetall\n",
    "    leg = pylab.flip(leg)                           #Riktig vei\n",
    "    nullpunkter = polynomial.polyroots(leg)         #Nullpunktene til legendre polynomet\n",
    "    der = polynomial.polyder(leg)                   #Deriverte til legendre polynomet\n",
    "    \n",
    "    for i in range(len(nullpunkter)):               #Her er summen som sett i definisjonen\n",
    "        vekt = 2 / ((1 - nullpunkter[i] ** 2)  * (polynomial.polyval(nullpunkter[i], der) ** 2))   #Vekten som sett i definisjonen\n",
    "        areal += vekt * nyF(nullpunkter[i])           \n",
    "    \n",
    "    return areal\n",
    "\n",
    "# Her gjør vi metoden om til et objekt i integrasjonsmetodeklassen\n",
    "Gauss = kvadraturMetode(gaussKvadratur)\n",
    "    \n",
    "# Bare printer ut tilnærmingen for n = 3 ved hjelp av en metode i klassen\n",
    "Gauss.printFor3(f, a, b)         "
   ]
  },
  {
   "cell_type": "markdown",
   "metadata": {},
   "source": [
    "#### Presisjonen til metoden\n",
    "\n",
    "Utifra svaret vi fikk over, er metoden veldig presis selv for lave verdier av n, men med denne metoden er det to ting vi vil ta hensyn til når vi skal sjekke presisjonen. Den første er at metoden funker bare for n-verdier som er oddetall og større enn eller lik en. Det vil si at den vanlige klassemetoden jeg har brukt på de andre funksjonene ikke vil fungere her, ettersom nesten alle verdiene den tester for er partall. En annen ting er at, ettersom legendre polynomer ofte er generert rekursivt (Er ikke helt sikker i dette tilfellet, ettersom jeg har brukt en metode fra en modul men har lite lyst til å ta risikoen), lønner det seg virkelig ikke å prøve å sette inn spesielt store n-verdier inn i funksjonen. Altså jeg kan garrantere at kjøretiden blir lang dersom jeg prøver for høye n-verdier, og jeg tviler egentlig på at jeg trenger det på grunn av presisjonen. Jeg har derfor lagt den inn i en subklasse som gir den en egen metode."
   ]
  },
  {
   "cell_type": "code",
   "execution_count": 15,
   "metadata": {},
   "outputs": [
    {
     "name": "stdout",
     "output_type": "stream",
     "text": [
      "For n = 1 : 0.8775825618903728\n",
      "--- 0.0 sekunder ---\n",
      "For n = 3 : 0.8412698476382185\n",
      "--- 0.0009570121765136719 sekunder ---\n",
      "For n = 5 : 0.8414714168026758\n",
      "--- 0.0009970664978027344 sekunder ---\n",
      "For n = 7 : 0.8414709843173851\n",
      "--- 0.0009970664978027344 sekunder ---\n",
      "For n = 9 : 0.8414709848082406\n",
      "--- 0.000997781753540039 sekunder ---\n",
      "For n = 11 : 0.8414709848078954\n",
      "--- 0.000997781753540039 sekunder ---\n",
      "For n = 13 : 0.8414709848078963\n",
      "--- 0.0009953975677490234 sekunder ---\n"
     ]
    }
   ],
   "source": [
    "Gauss.presisjon(f, a, b)"
   ]
  },
  {
   "cell_type": "markdown",
   "metadata": {},
   "source": [
    "Verdien vi var ute etter er som følger: \n",
    "\n",
    "$$0.8414709848079$$\n",
    "\n",
    "Vi ser her at vi får ønsket verdi allerede før n = 10, noe som er fantastisk. Uten tvil den beste metoden hittil. Vi kan også se at tiden er ekstremt liten for alle testene. Det bør nevnes at dette er veldig lave n-verdier, og at det ikke er spesielt sjokkerende, men vi kan gjøre en til test under som sjekker for en litt større verdi:"
   ]
  },
  {
   "cell_type": "code",
   "execution_count": 16,
   "metadata": {},
   "outputs": [
    {
     "name": "stdout",
     "output_type": "stream",
     "text": [
      "For n = 49 er integralet tilnærmet: 0.8414710414599144\n",
      "0.00299072265625\n"
     ]
    }
   ],
   "source": [
    "start_time = time.time()\n",
    "Gauss.valgfriPrint(f, a, b, 49)\n",
    "print(time.time() - start_time)"
   ]
  },
  {
   "cell_type": "markdown",
   "metadata": {},
   "source": [
    "Her ser vi at n har økt ganske mye, men tiden er fortsatt ganske lav. Hvis vi sammenligner dette med Simpsons metode ser vi derimot at Simpsons metode er raskere for en n-verdi på 100. Noe som tyder på at denne metoden kan fort bli treg også, men med så lave tall kan det også innebære små tilfeldigheter. Vi kan også se at resultatet ble dårligere enn for de lavere n-verdiene, noe som tyder på at man bør egentlig holde seg til lavere n-verdier når det kommer til denne metoden. \n",
    "\n",
    "Jeg prøvde også å printe integralet for en n-verdi nærmere 100, men det virker som om den når et punkt på veien hvor tallene blir skrevet på en helt annen måte. Mitt første inntrykk var at det var en form for pointer, men det virket som om det var noe annet. Hva det var vet jeg ikke, men det vi kan ta med oss fra dette, er at Gauss-kvadratur er helt klart den beste metoden når det kommer til testfunksjonen. Spørsmålet nå er hvilken som er best for andre funksjoner."
   ]
  },
  {
   "cell_type": "markdown",
   "metadata": {},
   "source": [
    "## Sammenlikne metodene for ulike testfunksjoner"
   ]
  },
  {
   "cell_type": "markdown",
   "metadata": {},
   "source": [
    "Nå som jeg har gått igjennom alle metodene hver for seg, tenker jeg at det er på tide å sammenlikne dem for ulike funksjoner. Først skal jeg lage en funksjon, som vil gjøre det lettere å gjøre dette."
   ]
  },
  {
   "cell_type": "code",
   "execution_count": 17,
   "metadata": {},
   "outputs": [],
   "source": [
    "def Sammenlikner(f, a, b):\n",
    "    '''\n",
    "    f: funksjon som skal ha sitt integral tilnærmet, type function\n",
    "    a: startverdien til funksjonen, type float\n",
    "    b: sluttverdien til funksjonen, type float\n",
    "    \n",
    "    returnerer none\n",
    "    '''\n",
    "    print(\"Rektangelmetoden:\")\n",
    "    try:\n",
    "        Rektangel.valgfriPrint(f, a, b, 10000)\n",
    "    except:\n",
    "        print(\"En error i utregningen\")\n",
    "    print(\"Trapesmetoden:\")\n",
    "    try:\n",
    "        Trapes.valgfriPrint(f, a, b, 10000)\n",
    "    except:\n",
    "        print(\"Error i utregningen\")\n",
    "    print(\"Simpsons metode:\")\n",
    "    try:\n",
    "        Simpson.valgfriPrint(f, a, b, 1000)\n",
    "    except:\n",
    "        print(\"Error i utregningen\")\n",
    "    print(\"Monte Carlo-Integrasjon:\")\n",
    "    try:\n",
    "        MonteCarlo.valgfriPrint(f, a, b, 10000)\n",
    "    except:\n",
    "        print(\"Error i utregningen\")"
   ]
  },
  {
   "cell_type": "markdown",
   "metadata": {},
   "source": [
    "Her har jeg ikke valgt for store verdier for n, for at jeg skal slippe strevet med kjøretid også videre. Jeg vil også ta Gauss-Kvadratur selvstendig, fordi da kan jeg optimalisere n-verdien"
   ]
  },
  {
   "cell_type": "code",
   "execution_count": 18,
   "metadata": {},
   "outputs": [],
   "source": [
    "def visFunksjonen(f, a, b):\n",
    "    '''\n",
    "    f: funksjonen som skal plottes, type er function\n",
    "    a: startverdien til funksjonen som skal plottes, type float\n",
    "    b: sluttverdien til funksjonen som skal plottes, type float\n",
    "    \n",
    "    returnerer None\n",
    "    '''\n",
    "    # Numpy-array med 1000 verdier fra startverdien til sluttverdien\n",
    "    x = pylab.linspace(a, b, 1000)\n",
    "\n",
    "    pylab.plot(x, f(x), color='salmon', label='5')\n",
    "    pylab.xlabel('x')\n",
    "    pylab.ylabel('y')\n",
    "    pylab.grid()\n",
    "    pylab.legend()\n",
    "    pylab.show()"
   ]
  },
  {
   "cell_type": "markdown",
   "metadata": {},
   "source": [
    "Enkel funksjon for å plotte ønsket funksjon i ønsket intervall"
   ]
  },
  {
   "cell_type": "markdown",
   "metadata": {},
   "source": [
    "### 0-te grads Polynom"
   ]
  },
  {
   "cell_type": "code",
   "execution_count": 19,
   "metadata": {},
   "outputs": [],
   "source": [
    "def nulltegrad(x):\n",
    "    return 5\n",
    "\n",
    "a_nulltegrad = 0\n",
    "b_nulltegrad = 5"
   ]
  },
  {
   "cell_type": "markdown",
   "metadata": {},
   "source": [
    "Ønsket integral her vil være 25. Her er funksjonen illustrert:"
   ]
  },
  {
   "cell_type": "code",
   "execution_count": 20,
   "metadata": {},
   "outputs": [
    {
     "data": {
      "image/png": "[encoded data removed]",
      "text/plain": [
       "<Figure size 432x288 with 1 Axes>"
      ]
     },
     "metadata": {
      "needs_background": "light"
     },
     "output_type": "display_data"
    }
   ],
   "source": [
    "# Numpy-array med 1000 verdier fra startverdien til sluttverdien\n",
    "x_nulltegrad = pylab.linspace(a_nulltegrad, b_nulltegrad, 1000)\n",
    "\n",
    "pylab.plot(x_nulltegrad, pylab.linspace(5,5,1000), color='salmon', label='5')\n",
    "pylab.xlabel('x')\n",
    "pylab.ylabel('y')\n",
    "pylab.grid()\n",
    "pylab.legend()\n",
    "pylab.show()"
   ]
  },
  {
   "cell_type": "markdown",
   "metadata": {},
   "source": [
    "fig(10): nulltegradsfunksjonen illustrert i intervallet $x=0$ til $x=5$. Her bruker jeg ikke funksjonen, på grunn av noen komplikasjoner med en konstant funksjon og returnverdien."
   ]
  },
  {
   "cell_type": "code",
   "execution_count": 21,
   "metadata": {},
   "outputs": [
    {
     "name": "stdout",
     "output_type": "stream",
     "text": [
      "Rektangelmetoden:\n",
      "For n = 10000 er integralet tilnærmet: 25.0\n",
      "Trapesmetoden:\n",
      "For n = 10000 er integralet tilnærmet: 25.0\n",
      "Simpsons metode:\n",
      "For n = 1000 er integralet tilnærmet: 25.0\n",
      "Monte Carlo-Integrasjon:\n",
      "For n = 10000 er integralet tilnærmet: 25.0\n",
      "Gauss-Kvadratur:\n",
      "For n = 1 er integralet tilnærmet: 25.0\n"
     ]
    }
   ],
   "source": [
    "Sammenlikner(nulltegrad, a_nulltegrad, b_nulltegrad)\n",
    "print(\"Gauss-Kvadratur:\")\n",
    "Gauss.valgfriPrint(nulltegrad, a_nulltegrad, b_nulltegrad, 1)"
   ]
  },
  {
   "cell_type": "markdown",
   "metadata": {},
   "source": [
    "På den første funksjonen er alle Newton-Cotes metodene helt nøyaktige, som forventet, også er Monte-Carlo helt nøyaktig, litt uforventet, men det er en forklaring bak det (Når jeg har definert den må man ta hensyn til høyden også, jeg har ikke iddet å gjøre sånn at man kan endre på denne, så den blir like stor som bredden. Dette fører i dette tilfellet til at alle punktene er innenfor funksjonen og brøken blir da 1. Når denne brøken da skal multipliseres med høyden og bredden som begge er 5 blir da resultatet 25. Dette kommer til å straffe seg i senere funksjoner ettersom jeg ikke har tenkt til å gjøre noe med høydeproblemet. Greien er bare at metoden ikke er god nok i seg selv). Gauss-Kvadratur treffer også eksakt etter en optimalisering av n-verdien."
   ]
  },
  {
   "cell_type": "markdown",
   "metadata": {},
   "source": [
    "### 1-te grads Polynom"
   ]
  },
  {
   "cell_type": "code",
   "execution_count": 22,
   "metadata": {},
   "outputs": [],
   "source": [
    "def forstegrad(x):\n",
    "    return x\n",
    "\n",
    "a_forstegrad = 0\n",
    "b_forstegrad = 3"
   ]
  },
  {
   "cell_type": "markdown",
   "metadata": {},
   "source": [
    "Ønsket integral her vil være 4.5. Her er metoden illustrert:"
   ]
  },
  {
   "cell_type": "code",
   "execution_count": 23,
   "metadata": {
    "scrolled": true
   },
   "outputs": [
    {
     "data": {
      "image/png": "[encoded data removed]",
      "text/plain": [
       "<Figure size 432x288 with 1 Axes>"
      ]
     },
     "metadata": {
      "needs_background": "light"
     },
     "output_type": "display_data"
    }
   ],
   "source": [
    "visFunksjonen(forstegrad, a_forstegrad, b_forstegrad)"
   ]
  },
  {
   "cell_type": "markdown",
   "metadata": {},
   "source": [
    "fig(11): førstegradspolynomet illustrert i intrevallet $x=0$ til $x=3$"
   ]
  },
  {
   "cell_type": "code",
   "execution_count": 24,
   "metadata": {},
   "outputs": [
    {
     "name": "stdout",
     "output_type": "stream",
     "text": [
      "Rektangelmetoden:\n",
      "For n = 10000 er integralet tilnærmet: 4.499550000000001\n",
      "Trapesmetoden:\n",
      "For n = 10000 er integralet tilnærmet: 4.500000000000001\n",
      "Simpsons metode:\n",
      "For n = 1000 er integralet tilnærmet: 4.499999999999999\n",
      "Monte Carlo-Integrasjon:\n",
      "For n = 10000 er integralet tilnærmet: 4.5198\n",
      "Gauss-Kvadratur:\n",
      "For n = 1 er integralet tilnærmet: 4.5\n"
     ]
    }
   ],
   "source": [
    "Sammenlikner(forstegrad, a_forstegrad, b_forstegrad)\n",
    "print(\"Gauss-Kvadratur:\")\n",
    "Gauss.valgfriPrint(forstegrad, a_forstegrad, b_forstegrad, 1)"
   ]
  },
  {
   "cell_type": "markdown",
   "metadata": {},
   "source": [
    "Her ser vi at rektangelmetoden begynner å falle litt ifra, mens resten av Newton-Cotes metodene treffer ganske nærme, bare ikke helt presist (1E-15 feil på begge). Monte Carlo-integrasjonen som endelig har fått noe hvor tilfeldigheten spiller inn treffer verst av alle, mens Gauss-Kvadraturen treffer helt eksakt igjen etter optimaliseringen."
   ]
  },
  {
   "cell_type": "markdown",
   "metadata": {},
   "source": [
    "### Andregrads Polynom"
   ]
  },
  {
   "cell_type": "code",
   "execution_count": 25,
   "metadata": {},
   "outputs": [],
   "source": [
    "def andregrad(x):\n",
    "    return x**2\n",
    "\n",
    "a_andregrad = 0\n",
    "b_andregrad = 4"
   ]
  },
  {
   "cell_type": "markdown",
   "metadata": {},
   "source": [
    "Ønsket integral her er 21.333... . Her er funksjonen illustrert:"
   ]
  },
  {
   "cell_type": "code",
   "execution_count": 26,
   "metadata": {},
   "outputs": [
    {
     "data": {
      "image/png": "[encoded data removed]",
      "text/plain": [
       "<Figure size 432x288 with 1 Axes>"
      ]
     },
     "metadata": {
      "needs_background": "light"
     },
     "output_type": "display_data"
    }
   ],
   "source": [
    "visFunksjonen(andregrad, a_andregrad, b_andregrad)"
   ]
  },
  {
   "cell_type": "markdown",
   "metadata": {},
   "source": [
    "fig(12): andregradsfunksjonen for intervallet $x=0$ til $x=4$"
   ]
  },
  {
   "cell_type": "code",
   "execution_count": 27,
   "metadata": {},
   "outputs": [
    {
     "name": "stdout",
     "output_type": "stream",
     "text": [
      "Rektangelmetoden:\n",
      "For n = 10000 er integralet tilnærmet: 21.330133439999894\n",
      "Trapesmetoden:\n",
      "For n = 10000 er integralet tilnærmet: 21.333333439999894\n",
      "Simpsons metode:\n",
      "For n = 1000 er integralet tilnærmet: 21.333333333333332\n",
      "Monte Carlo-Integrasjon:\n",
      "For n = 10000 er integralet tilnærmet: 10.728\n",
      "Gauss-Kvadratur:\n",
      "For n = 3 er integralet tilnærmet: 21.333333333333332\n"
     ]
    }
   ],
   "source": [
    "Sammenlikner(andregrad, a_andregrad, b_andregrad)\n",
    "print(\"Gauss-Kvadratur:\")\n",
    "Gauss.valgfriPrint(andregrad, a_andregrad, b_andregrad, 3)"
   ]
  },
  {
   "cell_type": "markdown",
   "metadata": {},
   "source": [
    "Her ser vi nå at både rektangelmetoden og trapesmetoden faller ifra. Simpsons metode derimot holder seg veldig presis. Monte Carlo-integrasjon er helt på bærtur (på grunn av høyde greien), og Gauss-Kvadratur er igjen veldig presis."
   ]
  },
  {
   "cell_type": "markdown",
   "metadata": {},
   "source": [
    "### Tredjegrads Polynom"
   ]
  },
  {
   "cell_type": "code",
   "execution_count": 28,
   "metadata": {},
   "outputs": [],
   "source": [
    "def tredjegrad(x):\n",
    "    return x**3\n",
    "\n",
    "a_tredjegrad = 0\n",
    "b_tredjegrad = 3"
   ]
  },
  {
   "cell_type": "markdown",
   "metadata": {},
   "source": [
    "Ønsket integral her er . Her er funksjonen illustrert:"
   ]
  },
  {
   "cell_type": "code",
   "execution_count": 29,
   "metadata": {},
   "outputs": [
    {
     "data": {
      "image/png": "[encoded data removed]",
      "text/plain": [
       "<Figure size 432x288 with 1 Axes>"
      ]
     },
     "metadata": {
      "needs_background": "light"
     },
     "output_type": "display_data"
    }
   ],
   "source": [
    "visFunksjonen(tredjegrad, a_tredjegrad, b_tredjegrad)"
   ]
  },
  {
   "cell_type": "markdown",
   "metadata": {},
   "source": [
    "fig(13): tredjegradsfunksjonen for intervallet $x = 0$ til $x = 3$"
   ]
  },
  {
   "cell_type": "code",
   "execution_count": 30,
   "metadata": {},
   "outputs": [
    {
     "name": "stdout",
     "output_type": "stream",
     "text": [
      "Rektangelmetoden:\n",
      "For n = 10000 er integralet tilnærmet: 20.24595020250003\n",
      "Trapesmetoden:\n",
      "For n = 10000 er integralet tilnærmet: 20.25000020250003\n",
      "Simpsons metode:\n",
      "For n = 1000 er integralet tilnærmet: 20.250000000000018\n",
      "Monte Carlo-Integrasjon:\n",
      "For n = 10000 er integralet tilnærmet: 5.8032\n",
      "Gauss-Kvadratur:\n",
      "For n = 5 er integralet tilnærmet: 20.249999999999993\n"
     ]
    }
   ],
   "source": [
    "Sammenlikner(tredjegrad, a_tredjegrad, b_tredjegrad)\n",
    "print(\"Gauss-Kvadratur:\")\n",
    "Gauss.valgfriPrint(tredjegrad, a_tredjegrad, b_tredjegrad, 5)"
   ]
  },
  {
   "cell_type": "markdown",
   "metadata": {},
   "source": [
    "Som sist er Rektangelmetoden og trapesmetoden litt ifra, Simpsons metode derimot holder seg greit selv om graden har økt. Monte Carlo-integrasjonen har flat lenger ifra ettersom denne vokser mer enn den forrige og Gauss-Kvadraturen er som vanlig veldig presis.\n",
    "\n",
    "Nå tenker jeg at det vil være nytteløst å bevege seg opp i høyere grad av polynomfunksjoner, men heller prøve å teste andre faktorer som negative verdier eller bare helt andre funksjoner."
   ]
  },
  {
   "cell_type": "markdown",
   "metadata": {},
   "source": [
    "### Enkel Funksjon med negativ startverdi i intervall"
   ]
  },
  {
   "cell_type": "code",
   "execution_count": 31,
   "metadata": {},
   "outputs": [],
   "source": [
    "def negativx(x):\n",
    "    return x**2\n",
    "\n",
    "a_negativx = -4\n",
    "b_negativx = 0"
   ]
  },
  {
   "cell_type": "markdown",
   "metadata": {},
   "source": [
    "Ønsket integral her er 21.333... . Her er funksjonen illustrert:"
   ]
  },
  {
   "cell_type": "code",
   "execution_count": 32,
   "metadata": {},
   "outputs": [
    {
     "data": {
      "image/png": "[encoded data removed]",
      "text/plain": [
       "<Figure size 432x288 with 1 Axes>"
      ]
     },
     "metadata": {
      "needs_background": "light"
     },
     "output_type": "display_data"
    }
   ],
   "source": [
    "visFunksjonen(negativx, a_negativx, b_negativx)"
   ]
  },
  {
   "cell_type": "markdown",
   "metadata": {},
   "source": [
    "fig(14): Her er funksjonen illustrert for intervallet $x = -4$ til $x = 0$ (Det samme som andregradsfunksjonen bare snudd om y-aksen)"
   ]
  },
  {
   "cell_type": "code",
   "execution_count": 33,
   "metadata": {},
   "outputs": [
    {
     "name": "stdout",
     "output_type": "stream",
     "text": [
      "Rektangelmetoden:\n",
      "For n = 10000 er integralet tilnærmet: 21.336533440000004\n",
      "Trapesmetoden:\n",
      "For n = 10000 er integralet tilnærmet: 21.333333440000008\n",
      "Simpsons metode:\n",
      "For n = 1000 er integralet tilnærmet: 21.33333333333333\n",
      "Monte Carlo-Integrasjon:\n",
      "For n = 10000 er integralet tilnærmet: 10.6208\n",
      "Gauss-Kvadratur:\n",
      "For n = 3 er integralet tilnærmet: 21.33333333333334\n"
     ]
    }
   ],
   "source": [
    "Sammenlikner(negativx, a_negativx, b_negativx)\n",
    "print(\"Gauss-Kvadratur:\")\n",
    "Gauss.valgfriPrint(negativx, a_negativx, b_negativx, 3)"
   ]
  },
  {
   "cell_type": "markdown",
   "metadata": {},
   "source": [
    "Problemet som kunne dukket opp her var om noen av funksjonene falt ut dersom inkluderte en negativ x-verdi. Den eneste som har blitt tydelig påvirket er Monte Carlo-Integrasjon, men det er jo på grunn av høyden osv. Det er verdt å merke seg at den ikke er mer på bærtur nå enn den pleier da!"
   ]
  },
  {
   "cell_type": "markdown",
   "metadata": {},
   "source": [
    "### Enkel funksjon med negativ funksjonsverdi"
   ]
  },
  {
   "cell_type": "code",
   "execution_count": 34,
   "metadata": {},
   "outputs": [],
   "source": [
    "def negativy(x):\n",
    "    return -(x**2)\n",
    "\n",
    "a_negativy = 0\n",
    "b_negativy = 4"
   ]
  },
  {
   "cell_type": "markdown",
   "metadata": {},
   "source": [
    "Ønsket integral her er -21.333... . Her er funksjonen illustrert:"
   ]
  },
  {
   "cell_type": "code",
   "execution_count": 35,
   "metadata": {
    "scrolled": true
   },
   "outputs": [
    {
     "data": {
      "image/png": "[encoded data removed]",
      "text/plain": [
       "<Figure size 432x288 with 1 Axes>"
      ]
     },
     "metadata": {
      "needs_background": "light"
     },
     "output_type": "display_data"
    }
   ],
   "source": [
    "visFunksjonen(negativy, a_negativy, b_negativy)"
   ]
  },
  {
   "cell_type": "markdown",
   "metadata": {},
   "source": [
    "fig(15): Funksjonen illustrert for intervallet $x=0$ til $x = 4$"
   ]
  },
  {
   "cell_type": "code",
   "execution_count": 36,
   "metadata": {},
   "outputs": [
    {
     "name": "stdout",
     "output_type": "stream",
     "text": [
      "Rektangelmetoden:\n",
      "For n = 10000 er integralet tilnærmet: -21.330133439999894\n",
      "Trapesmetoden:\n",
      "For n = 10000 er integralet tilnærmet: -21.333333439999894\n",
      "Simpsons metode:\n",
      "For n = 1000 er integralet tilnærmet: -21.333333333333332\n",
      "Monte Carlo-Integrasjon:\n",
      "For n = 10000 er integralet tilnærmet: 0.0\n",
      "Gauss-Kvadratur:\n",
      "For n = 3 er integralet tilnærmet: -21.333333333333332\n"
     ]
    }
   ],
   "source": [
    "Sammenlikner(negativy, a_negativy, b_negativy)\n",
    "print(\"Gauss-Kvadratur:\")\n",
    "Gauss.valgfriPrint(negativy, a_negativy, b_negativy, 3)"
   ]
  },
  {
   "cell_type": "markdown",
   "metadata": {},
   "source": [
    "Her var utfordringen om funksjonene kom til å takle en funksjon under x-aksen. Og stort sett gjorde de det. Presisjonen var egentlig ikke et spørsmål her, ettersom det var samme funksjon som vi allerede har tatt et par ganger. Monte Carlo-Integrasjon skiller seg igjen ut her ved at høyden ikke stemmer. Her vil da høyden på boksen som punktene kunne plasseres inne i vært $[0, 4]$, og da vil alle punktene plasseres ovenfor funksjonen, noe som fører til et integral lik null. Kort sagt fungerer metoden best slik jeg har programert den nå, dersom funksjonen kun er i et kvadrat i første kvadrant."
   ]
  },
  {
   "cell_type": "markdown",
   "metadata": {},
   "source": [
    "### Funksjon hvor integralet nuller seg selv ut"
   ]
  },
  {
   "cell_type": "code",
   "execution_count": 37,
   "metadata": {},
   "outputs": [],
   "source": [
    "def nullintegral(x):\n",
    "    return x\n",
    "\n",
    "a_nullintegral = -5\n",
    "b_nullintegral = 5"
   ]
  },
  {
   "cell_type": "markdown",
   "metadata": {},
   "source": [
    "Ønsket integral her er da overraskende nok 0. Her er funskjonen illustrert:"
   ]
  },
  {
   "cell_type": "code",
   "execution_count": 38,
   "metadata": {
    "scrolled": true
   },
   "outputs": [
    {
     "data": {
      "image/png": "[encoded data removed]",
      "text/plain": [
       "<Figure size 432x288 with 1 Axes>"
      ]
     },
     "metadata": {
      "needs_background": "light"
     },
     "output_type": "display_data"
    }
   ],
   "source": [
    "visFunksjonen(nullintegral, a_nullintegral, b_nullintegral)"
   ]
  },
  {
   "cell_type": "markdown",
   "metadata": {},
   "source": [
    "fig(16): Her er funksjonen illustrert for intervallet $x = -5$ til $x = 5$"
   ]
  },
  {
   "cell_type": "code",
   "execution_count": 39,
   "metadata": {},
   "outputs": [
    {
     "name": "stdout",
     "output_type": "stream",
     "text": [
      "Rektangelmetoden:\n",
      "For n = 10000 er integralet tilnærmet: -0.005000000000000022\n",
      "Trapesmetoden:\n",
      "For n = 10000 er integralet tilnærmet: 7.993605777301127e-17\n",
      "Simpsons metode:\n",
      "For n = 1000 er integralet tilnærmet: 4.0264088359739013e-16\n",
      "Monte Carlo-Integrasjon:\n",
      "For n = 10000 er integralet tilnærmet: 12.370000000000001\n",
      "Gauss-Kvadratur:\n",
      "For n = 1 er integralet tilnærmet: 0.0\n"
     ]
    }
   ],
   "source": [
    "Sammenlikner(nullintegral, a_nullintegral, b_nullintegral)\n",
    "print(\"Gauss-Kvadratur:\")\n",
    "Gauss.valgfriPrint(nullintegral, a_nullintegral, b_nullintegral, 1)"
   ]
  },
  {
   "cell_type": "markdown",
   "metadata": {},
   "source": [
    "Her kan det fort se ut som om alle metodene er på bærtur bortsett fra rektangelmetoden, men dersom man ser litt etter er alle funksjonene utrolig nærme (bortsett fra den som jeg ikke vil snakke om mer (Monte Carlo-Integrasjon)). Gauss-Kvadratur viser igjen helt presist etter litt optimalisering.\n",
    "\n",
    "Nå har vi testet for ulike inervaller og nå tenker jeg å teste litt andre former for funksjoner."
   ]
  },
  {
   "cell_type": "markdown",
   "metadata": {},
   "source": [
    "### Eksponentsialfunksjoner"
   ]
  },
  {
   "cell_type": "code",
   "execution_count": 40,
   "metadata": {},
   "outputs": [],
   "source": [
    "def e(x):\n",
    "    return pylab.exp(x)\n",
    "\n",
    "a_e = 0\n",
    "b_e = pylab.exp(1)"
   ]
  },
  {
   "cell_type": "markdown",
   "metadata": {},
   "source": [
    "Ønsket integral her er da 14.154262241479262. Her er funksjonen illustrert:"
   ]
  },
  {
   "cell_type": "code",
   "execution_count": 41,
   "metadata": {
    "scrolled": true
   },
   "outputs": [
    {
     "data": {
      "image/png": "[encoded data removed]",
      "text/plain": [
       "<Figure size 432x288 with 1 Axes>"
      ]
     },
     "metadata": {
      "needs_background": "light"
     },
     "output_type": "display_data"
    }
   ],
   "source": [
    "visFunksjonen(e, a_e, b_e)"
   ]
  },
  {
   "cell_type": "markdown",
   "metadata": {},
   "source": [
    "fig(17): Her er funksjon illustrert for intervallet $x = 0$ til $x = e$"
   ]
  },
  {
   "cell_type": "code",
   "execution_count": 42,
   "metadata": {},
   "outputs": [
    {
     "name": "stdout",
     "output_type": "stream",
     "text": [
      "Rektangelmetoden:\n",
      "For n = 10000 er integralet tilnærmet: 14.152338564942514\n",
      "Trapesmetoden:\n",
      "For n = 10000 er integralet tilnærmet: 14.154262328634825\n",
      "Simpsons metode:\n",
      "For n = 1000 er integralet tilnærmet: 14.154262241483556\n",
      "Monte Carlo-Integrasjon:\n",
      "For n = 10000 er integralet tilnærmet: 6.390055714355226\n",
      "Gauss-Kvadratur:\n",
      "For n = 15 er integralet tilnærmet: 14.154262241479438\n"
     ]
    }
   ],
   "source": [
    "Sammenlikner(e, a_e, b_e)\n",
    "print(\"Gauss-Kvadratur:\")\n",
    "Gauss.valgfriPrint(e, a_e, b_e, 15)"
   ]
  },
  {
   "cell_type": "markdown",
   "metadata": {},
   "source": [
    "Her ser vi at Newton-Cotes metodene er riktige til et par desimaler, og Simpsons metode er uventet best av dem, men etter litt tilpasning, som var mer prøve og feile nå som det ikke var polynomfunksjoner, treffer da Gauss-Kvadratur igjen best hvor kun de tre siste desimalene mine ikke passet med ønsket verdi.\n",
    "\n",
    "Utfordringen her skulle være å se hvordan de funket med irrasjonale tall. Men etter litt tenking innser jeg jo at den definisjonen av $e$ som jeg bruker her er jo rasjonal ettorsom den er generert gjennom datamaskiner, men det er jo fortsatt en godt eksempel for bruk av et flyttall, noe som visste seg å ike være et problem."
   ]
  },
  {
   "cell_type": "markdown",
   "metadata": {},
   "source": [
    "### Brøkfunksjoner"
   ]
  },
  {
   "cell_type": "code",
   "execution_count": 43,
   "metadata": {},
   "outputs": [],
   "source": [
    "def brok(x):\n",
    "    return (x-1)/(x-2)\n",
    "\n",
    "a_brok = 0\n",
    "b_brok = 4"
   ]
  },
  {
   "cell_type": "markdown",
   "metadata": {},
   "source": [
    "Ønsket integral her er 4. Her er funksjonen illustrert:"
   ]
  },
  {
   "cell_type": "code",
   "execution_count": 44,
   "metadata": {
    "scrolled": true
   },
   "outputs": [
    {
     "data": {
      "image/png": "[encoded data removed]",
      "text/plain": [
       "<Figure size 432x288 with 1 Axes>"
      ]
     },
     "metadata": {
      "needs_background": "light"
     },
     "output_type": "display_data"
    }
   ],
   "source": [
    "x_brok = pylab.linspace(a_brok, b_brok, 1000)\n",
    "\n",
    "pylab.plot(x_brok, brok(x_brok), color='salmon', label='5')\n",
    "\n",
    "pylab.ylim(top=10)\n",
    "pylab.ylim(bottom=-10)\n",
    "\n",
    "pylab.xlabel('x')\n",
    "pylab.ylabel('y')\n",
    "pylab.grid()\n",
    "pylab.legend()\n",
    "pylab.show()"
   ]
  },
  {
   "cell_type": "markdown",
   "metadata": {},
   "source": [
    "fig(18): Funksjonen illustrert i intervallet $[0, 4]$. Merk at linjen som ser ut til å gå parallell med $x = 2$, er egentlig ikke en del av funksjonen, men en asymptote som man får i slike brøkfunksjoner. Poenget er at funksjonen ikke er definert for $x = 2$, fordi det vil være $0$ i nevner."
   ]
  },
  {
   "cell_type": "code",
   "execution_count": 45,
   "metadata": {},
   "outputs": [
    {
     "name": "stdout",
     "output_type": "stream",
     "text": [
      "Rektangelmetoden:\n",
      "En error i utregningen\n",
      "Trapesmetoden:\n",
      "Error i utregningen\n",
      "Simpsons metode:\n",
      "Error i utregningen\n",
      "Monte Carlo-Integrasjon:\n",
      "For n = 10000 er integralet tilnærmet: 5.2112\n",
      "Gauss-Kvadratur:\n",
      "For n = 7 er integralet tilnærmet: 4.000000000000003\n"
     ]
    }
   ],
   "source": [
    "Sammenlikner(brok, a_brok, b_brok)\n",
    "print(\"Gauss-Kvadratur:\")\n",
    "Gauss.valgfriPrint(brok, a_brok, b_brok, 7)"
   ]
  },
  {
   "cell_type": "markdown",
   "metadata": {},
   "source": [
    "Her begynte man virkelig å se forskjell på metodene, men det har sin forklaring, og det bør være mulig å unnå dem. Først og fremst er Newton-Cotes metodene. Alle ender opp med errormelding, og det er fordi alle vil utnytte punktet $x = 2$ for alle $2\\,n > 1$, ihvertfall i dette intervallet. Her handlet det egentlig om flaks, og dersom jeg hadde justert på intervallet slik at de kunne hoppet over akkurat den x-verdien, hadde det gått, men det gjorde jeg da ikke. Monte-Carlo treffer relativt bra her, men igjen er det det med høyden og ulempene i måten jeg har designet metoden, men det som er verdt å merke med metoden er at den som oftest er mulig å fullføre, og vil prøve seg på et svar. Gauss-Kvadratur treffer aller best her. Veldig presist også, men igjen er dette litt flaks ettersom noen n-verdier vil treffe $x = 2$. Et eksempel på det kan vises under:"
   ]
  },
  {
   "cell_type": "code",
   "execution_count": 46,
   "metadata": {},
   "outputs": [
    {
     "name": "stdout",
     "output_type": "stream",
     "text": [
      "Gauss-Kvadratur:\n",
      "For n = 5 er integralet tilnærmet: inf\n"
     ]
    },
    {
     "name": "stderr",
     "output_type": "stream",
     "text": [
      "C:\\Users\\simen\\Anaconda3\\lib\\site-packages\\ipykernel_launcher.py:2: RuntimeWarning: divide by zero encountered in double_scalars\n",
      "  \n"
     ]
    }
   ],
   "source": [
    "print(\"Gauss-Kvadratur:\")\n",
    "Gauss.valgfriPrint(brok, a_brok, b_brok, 5)"
   ]
  },
  {
   "cell_type": "markdown",
   "metadata": {},
   "source": [
    "Her Får vi en errormelding, men resultatet er ikke helt likt som det hadde fått i Newton-Cotes metodene, ettersom man har en innebygd redningsnett for dette i en av modulene jeg har importert.\n",
    "\n",
    "Dette skulle være en test over om metodene greidde å snike seg unna asymptoten, og jeg vil konkludere med at overraskende nok er Monte Carlo-integrasjon best her, fordi den vil aldri falle i fellen med asymptoten (Dersom programmet greier å se null i nevner som uendlig stor som ved Gauss erroren). De andre metodene kan fort falle i fellen, og må nesten bare være heldige med intervallet og antall n."
   ]
  },
  {
   "cell_type": "markdown",
   "metadata": {},
   "source": [
    "Ved dette punktet vet jeg ikke om det er så veldig mye mer å teste, ettersom det vil bare være en gjentakelse av det jeg har gjort tidligere. Noen ideer jeg kunne strekt meg utover, og problemene med dem:\n",
    "\n",
    "1. Andre tallgrupper som imaginære tall, komplekse tall og enda flere utover der, men det kan bli litt vanskelig, eller meningsløs. på grunn av datamaskinen vil ulike vanskeligere verdier ikke fungere som de skal, og bare være tilnærmet som ulike flyttall, noe jeg allerede har testet. Imaginære tall og komplekse tall har jeg dessverre ikke så mye kunnskaper om, så det blir litt mye å gå inn i for nå. Jeg vet heller ikke om noen måter å få implementert det i python så det er jo det også.\n",
    "\n",
    "2. Øke antall dimensjoner. Gjennom prosjektet har jeg kunn jobbet med plan, eller da to dimensjoner, men det hadde vært gøy å prøve å øke dette antallet, for det burde jo være mulig. Men der tror jeg igjen tiden er litt knap for å kunne sette meg inn i dette, siden det vil trenge flere variabler og spesielt alle dimensjoner større enn 3 er ganske abstrakte å i det hele tatt tenke på. En tanke jeg har fått av det er at spesielt en optimalisert Monte Carlo-Integrasjons metode hadde funket veldig bra her og noe man ikke hadde støtt borti så mange problemer ved å tilpasse den."
   ]
  },
  {
   "cell_type": "markdown",
   "metadata": {},
   "source": [
    "## Drøfting og Diskusjon"
   ]
  },
  {
   "cell_type": "markdown",
   "metadata": {},
   "source": [
    "Her skal jeg snakke og drøfte om ulike ideer som har spilt en rolle i denne rapporten. Noen ting er litt mer spesifikt enn andre. Jeg tenker også å snakke om ulike temaer som har interresert meg gjennom rapporten, fordi jeg vil."
   ]
  },
  {
   "cell_type": "markdown",
   "metadata": {},
   "source": [
    "### Hvilken metode var \"best\"\n",
    "\n",
    "Gjennom hele denne raporten har jeg gjort rede for og testet flere ulike metoder som kan brukes når det kommer til å integrere funksjoner. Med det i tankene, så bør det være en som er best. Eller i hvertfall en som er bedre enn de andre på ulike ting. Hvis vi skal drøfte oss frem til en som kan være bedre, burde vi se på flere ulike aspekter. Først og fremst mener jeg at vi kan ekskludere Riemann-Summen og Trapesmetoden, ettersom Simpsons metode vil være bedre enn dem ved alle verdier for n. Merk at jeg velger å fokusere mer på presisjonen her, enn tiden det tar å beregne verdien. Dersom jeg hadde sett på tiden også, ville de to ekskluderte metodene vært sterkere stilt, ettersom beregningene ikke er så tunge.\n",
    "\n",
    "Det fører til at vi står igjen med 3 metoder:\n",
    "\n",
    "- Simpsons metode\n",
    "\n",
    "- Monte Carlo-Integrasjon\n",
    "\n",
    "- Gauss-Kvadratur\n",
    "\n",
    "Hvis jeg skal snakke utifra egne tanker, vil jeg faktisk si at dersom man får en tilfeldig funksjon, vil Monte Carlo-integrasjon være den beste metoden, ettersom den ved alle annledninger vil gi et godt estimat for høy verdi av n. Selv om den innebærer tilfeldigheter, vil en stor nok verdi av n gi et veldig bra estimat. Det var egentlig bare synd at min implementasjon av metoden ikke helt levde opp til sitt potensiale. Gauss-Kvadratur vi jeg så si at er den nest beste, ettersom den kan gi helt nøyaktig svar ved alle polynomfunksjoner, dersom den er optimalisert med riktig n-verdi. Simpsons metode er også god på polynomfunksjoner, men Gauss-Kvadratur er bare litt bedre. Problemet med Gauss-Kvadratur er slik jeg ser det først og fremst asymptoter, men også at optimaliseringsprosessen er veldig mye prøve og feile utifra mine kunnskaper, dersom det ikke er en polynomfunksjon. Monte Carlo-integrasjon på den andre siden trenger ikke den samme optimaliseringen, ettersomden bare blir bedre og mer presis dersom man øker verdien for n.\n",
    "\n",
    "Så kort oppsumert vil jeg si at Gauss-Kvadratur og Monte Carlo-Integrasjon er de to beste integrasjonsmetodene, av de jeg har gått igjennom her. Monte-Carlo er etter min mening litt over, ettersom den er utrolig mye mer tilpasningsdyktig. Og som Charles Darwin en gang skrev om handler det kanskje ikke om å være sterkest/mest presis, men å være mest tilpassningsdyktig ovenfor endringer i alle mulige aspekter."
   ]
  },
  {
   "cell_type": "markdown",
   "metadata": {},
   "source": [
    "### Kompleksitet og Big-Oh Notasjon\n",
    "\n",
    "Kompleksitet handler om hvor raskt et program kan utføre en handling for generelle testdata, og det er fint å ha i bakhodet for å sammenlikne ulike metoders kjøretid. En måte å beskrive den matematiske kjøretiden til en algoritme er gjennom Big-Oh notasjonen. For eksempel vil en algoritme som tar inn N som input og bruker en for-loop til å loope N ganger vil den algoritmen ha en kompleksitet på $\\mathcal{O}(N)$. Det vil si at for N inputs, vil algoritmen utføre N steg. Dersom vi øker til en dobbel for-løkke, altså en for løkke inni en for-løkke, hvor begge looper N ganger, vil kompleksiteten plutselig øke til $\\mathcal{O}(N^2)$. Et annet tilfelle hadde vært hvis vi hadde en for-løkke som loopet 100 ganger, uansett verdi for N. Dette ville gitt oss en kompleksitet på $\\mathcal{O}(1)$. Merk her at det står 1 og ikke 100 inni parantesen, dette er bare for å merke at kjøretiden er konstant. Big-Oh notasjonen gir nemlig ikke alltid helt riktig kjøretid, men heller en generell antakelse, hvor man heller fokuserer på hvordan kjøretiden endres etter som N endres.\n",
    "\n",
    "I programmene over nevner jeg kompleksitet et par ganger, og man ser jo at kjøretiden er annerledes mellom metodene, men dersom man skulle sett på big-oh notasjonen til de forskjellige metodene, vil man se at alle er $\\mathcal{O}(N)$. Dette betyr ikke da at kjøretiden er lik mellom alle metodene, for det er den ikke. Det betyr heller at kjøretiden endres på samme måte dersom man legger til eller trekker fra fra N. Altså endringen er lik. Den forskjellige kjøretiden forklares av at noen av metodene krever for eksempel flere operasjoner."
   ]
  },
  {
   "cell_type": "markdown",
   "metadata": {},
   "source": [
    "### Lagrange form\n",
    "Polynomer kjennetegnes som funksjoner hvor man har x, eller den variabelen man bruker, opphøyd til en hviss grad, helst heltallig. Og dersom du har noen visse punkter, $(x_i, f(x_i))$ som tilhører en funksjon $f$, kan man da gjennom interpolering finne et polynom som vil skjære gjennom disse punktene. Det er da hovedsaklig Simpsons metode som utnytter denne metoden, og en måte å finne denne funksjonen som interpolerer er ved å skrive den på lagrange form. Metoden går ut på følgende:\n",
    "\n",
    "Du skal finne et polynom som skjærer i:\n",
    "\n",
    "$$(x_1, f(x_1))$$\n",
    "$$(x_2, f(x_2))$$\n",
    "$$(x_3, f(x_3))$$\n",
    "\n",
    "Du kan da skrive følgende:\n",
    "\n",
    "$$L(x) = f(x_1)\\,\\frac{x-x_2}{x_1-x_2}\\,\\frac{x-x_3}{x_1-x_3} + f(x_2)\\,\\frac{x-x_1}{x_2-x_1}\\,\\frac{x-x_3}{x_2-x_3} + f(x_3)\\,\\frac{x-x_1}{x_3-x_1}\\,\\frac{x-x_2}{x_3-x_2}$$\n",
    "\n",
    "Det kan lettere forstås med et eksempel:\n",
    "\n",
    "$$(1, 1)$$\n",
    "$$(2, 4)$$\n",
    "$$(3, 9)$$\n",
    "\n",
    "Da får vi:\n",
    "\n",
    "$$L(x) = 1\\,\\frac{x-2}{1-2}\\,\\frac{x-3}{1-3} + 4\\,\\frac{x-1}{2-1}\\,\\frac{x-3}{2-3} + 9\\,\\frac{x-1}{3-1}\\,\\frac{x-2}{3-2}$$\n",
    "\n",
    "$$= x^2$$\n",
    "\n",
    "Ved å sjekke etterpå kan du se at dette faktisk stemmer. Merk at dette gir kanskje ikke alltid den funksjonen du er ute etter, men en funksjon som interpolerer i de gitte punktene.\n",
    "\n",
    "Jeg vil personlig innrømme at jeg forstår ikke helt hvorfor dette funker, mye fordi jeg ikke har satt meg helt inn i det, men jeg ser at det funker, og jeg synes det var ganske interesant og overraskende nyttig. Jeg kan se for meg at metoder som denne kan brukes til å kanskje utføre noe enkel form for polynom-regresjon eller liknende."
   ]
  },
  {
   "cell_type": "markdown",
   "metadata": {},
   "source": [
    "### Legendre polynomer\n",
    "\n",
    "Legendre polynomer er først og fremst et navn som alt for lett kan blandes med Lagrange polynomer. Det er derimot noe helt annerledes. Det er et sett med polynomer som vi gjennom denne rapporten har brukt til å bestemme vekter og x-verdier for å løse bestemte integraler gjennom Gauss-Kvadratur. Det er flere måter å definere dem på, og en av de letteste er gjennom rekursjon. Den kan enkelt defineres slik:\n",
    "\n",
    "$$(n + 1)\\,P_{n+1}(x) = (2\\,n + 1)\\,x\\,P_n(x)-n\\,P_{n-1}(x)$$\n",
    "\n",
    "Og her vil da initialbetingelsene være:\n",
    "\n",
    "$$P_0(x) = 1$$\n",
    "\n",
    "og \n",
    "\n",
    "$$P_1(x) = x$$\n",
    "\n",
    "PS: Jeg brukte ikke denne rekursive metoden i min implementering av Gauss-Kvadratur, men heller en importert funksjon som ifølge dokumentasjonen ikke er definert gjennom rekursjon."
   ]
  },
  {
   "cell_type": "markdown",
   "metadata": {},
   "source": [
    "## Avsluttning"
   ]
  },
  {
   "cell_type": "markdown",
   "metadata": {},
   "source": [
    "Nå som jeg er ferdig med dette prosjektet vil jeg si at jeg sitter igjen med mye ny og interresant lærdom. Spesielt innenfor da integrasjon (overraskende nok), men også andre deler av matematikken generelt. Om jeg får så mye bruk for det jeg har lært, får jeg bare vente og se med. Det har vært mye arbeid, og jeg har lagt mye arbeid bak det, men til syvende og sist vil jeg si at det var verdt det. Takk for meg."
   ]
  },
  {
   "cell_type": "markdown",
   "metadata": {},
   "source": [
    "## Kilder\n",
    "\n",
    "- Andreas Haraldsrud. (2018). *Programmering og Modellering* (første utgave). Realfagsforlaget. (Mye forskjellig fra integrasjonsdelen)\n",
    "- https://no.wikipedia.org/wiki/Integrasjon (Integrasjon generelt)\n",
    "- https://www.uio.no/studier/emner/matnat/math/MAT-INF1100/h11/kompendiet/chap12.pdf (Utledning av Simpsons Metode)\n",
    "- https://en.wikipedia.org/wiki/Lagrange_polynomial (Lagrange Polynomer)\n",
    "- https://en.wikipedia.org/wiki/Monte_Carlo_integration (Monte Carlo-Integrasjon)\n",
    "- https://www.youtube.com/watch?v=Hu6yqs0R7GA (Gauss-Kvadratur)\n",
    "- https://en.wikipedia.org/wiki/Legendre_polynomials (Legendre Polynomer)\n",
    "- http://nio.no/wp-content/uploads/2012/02/algoritmer_datastrukturer-2.pdf (Big-Oh Notasjon)"
   ]
  }
 ],
 "metadata": {
  "kernelspec": {
   "display_name": "Python 3",
   "language": "python",
   "name": "python3"
  },
  "language_info": {
   "codemirror_mode": {
    "name": "ipython",
    "version": 3
   },
   "file_extension": ".py",
   "mimetype": "text/x-python",
   "name": "python",
   "nbconvert_exporter": "python",
   "pygments_lexer": "ipython3",
   "version": "3.7.3"
  }
 },
 "nbformat": 4,
 "nbformat_minor": 2
}
